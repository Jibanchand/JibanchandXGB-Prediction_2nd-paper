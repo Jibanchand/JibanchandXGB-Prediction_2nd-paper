{
 "cells": [
  {
   "cell_type": "code",
   "execution_count": 1,
   "metadata": {},
   "outputs": [],
   "source": [
    "import Helper as hp\n",
    "import tqdm\n",
    "import random\n",
    "import os"
   ]
  },
  {
   "cell_type": "code",
   "execution_count": 2,
   "metadata": {},
   "outputs": [
    {
     "data": {
      "text/plain": [
       "'\\nwhile True:\\n    if len(random_states) == 3:\\n        break\\n    rand = random.randint(0, 100)\\n    if rand not in random_states:\\n        random_sta,tes.append(rand),\\n'"
      ]
     },
     "execution_count": 2,
     "metadata": {},
     "output_type": "execute_result"
    }
   ],
   "source": [
    "model_names =  ['XGBRegressor','AdaBoostRegressor','RandomForestRegressor','BaggingRegressor']  #insert the names of the models we like to train\n",
    "random_states = [198]\n",
    "random_states = list(set(random_states))\n",
    "'''\n",
    "while True:\n",
    "    if len(random_states) == 3:\n",
    "        break\n",
    "    rand = random.randint(0, 100)\n",
    "    if rand not in random_states:\n",
    "        random_sta,tes.append(rand),\n",
    "'''"
   ]
  },
  {
   "cell_type": "code",
   "execution_count": 3,
   "metadata": {},
   "outputs": [],
   "source": [
    "#labels = {\"B\":\"Footing Width, B\", \"D\": \"Depth\", \"L/B\" : \"Footing Geometry, L/B\", \"Y\": \"Unit weight of soil, Y\", \"Theta\": \"Angle of internal friction\", \"Qu\":\"Ultimate Bearing Capacity, Qu\"}"
   ]
  },
  {
   "cell_type": "code",
   "execution_count": 4,
   "metadata": {},
   "outputs": [],
   "source": [
    "dataset_name = '5' #change this to change the dataset name do the same in helper code too"
   ]
  },
  {
   "cell_type": "code",
   "execution_count": 5,
   "metadata": {},
   "outputs": [
    {
     "name": "stderr",
     "output_type": "stream",
     "text": [
      "\r",
      "  0%|                                                    | 0/1 [00:00<?, ?it/s]"
     ]
    },
    {
     "name": "stdout",
     "output_type": "stream",
     "text": [
      "\n",
      "  0%|                                  | 0/150 [00:00<?, ?trial/s, best loss=?]\u001b[A\n",
      "  1%|▏         | 2/150 [00:00<00:12, 11.76trial/s, best loss: 94.3261905186686]\u001b[A\n",
      "  3%|▏        | 4/150 [00:00<00:13, 10.43trial/s, best loss: 64.36526873220663]\u001b[A\n",
      "  4%|▎        | 6/150 [00:00<00:13, 10.47trial/s, best loss: 64.36526873220663]\u001b[A\n",
      "  5%|▍        | 8/150 [00:00<00:13, 10.36trial/s, best loss: 56.85244425077533]\u001b[A\n",
      "  7%|▌       | 10/150 [00:00<00:13, 10.60trial/s, best loss: 56.85244425077533]\u001b[A\n",
      "  8%|▋       | 12/150 [00:01<00:13, 10.24trial/s, best loss: 56.85244425077533]\u001b[A\n",
      "  9%|▋       | 14/150 [00:01<00:13, 10.18trial/s, best loss: 56.85244425077533]\u001b[A\n",
      " 11%|▊       | 16/150 [00:01<00:11, 12.02trial/s, best loss: 56.85244425077533]\u001b[A\n",
      " 13%|█       | 19/150 [00:01<00:08, 14.80trial/s, best loss: 56.85244425077533]\u001b[A\n",
      " 14%|█       | 21/150 [00:01<00:08, 15.61trial/s, best loss: 51.39119281888758]\u001b[A\n",
      " 15%|█▏      | 23/150 [00:01<00:08, 15.34trial/s, best loss: 51.39119281888758]\u001b[A\n",
      " 17%|█▎      | 25/150 [00:01<00:08, 14.67trial/s, best loss: 51.39119281888758]\u001b[A\n",
      " 18%|█▍      | 27/150 [00:02<00:09, 13.52trial/s, best loss: 51.39119281888758]\u001b[A\n",
      " 19%|█▌      | 29/150 [00:02<00:09, 13.25trial/s, best loss: 51.39119281888758]\u001b[A\n",
      " 21%|█▋      | 31/150 [00:02<00:10, 11.02trial/s, best loss: 51.39119281888758]\u001b[A\n",
      " 22%|█▊      | 33/150 [00:02<00:11, 10.34trial/s, best loss: 51.39119281888758]\u001b[A\n",
      " 23%|█▊      | 35/150 [00:02<00:11, 10.44trial/s, best loss: 51.39119281888758]\u001b[A\n",
      " 25%|█▉      | 37/150 [00:03<00:11,  9.72trial/s, best loss: 51.39119281888758]\u001b[A\n",
      " 26%|██      | 39/150 [00:03<00:11,  9.56trial/s, best loss: 51.39119281888758]\u001b[A\n",
      " 27%|██▏     | 40/150 [00:03<00:11,  9.40trial/s, best loss: 51.39119281888758]\u001b[A\n",
      " 27%|██▏     | 41/150 [00:03<00:11,  9.11trial/s, best loss: 51.39119281888758]\u001b[A\n",
      " 28%|██▏     | 42/150 [00:03<00:12,  8.89trial/s, best loss: 51.39119281888758]\u001b[A\n",
      " 29%|██▎     | 43/150 [00:03<00:12,  8.34trial/s, best loss: 51.39119281888758]\u001b[A\n",
      " 29%|██▎     | 44/150 [00:04<00:12,  8.39trial/s, best loss: 51.39119281888758]\u001b[A\n",
      " 30%|██▍     | 45/150 [00:04<00:12,  8.34trial/s, best loss: 51.39119281888758]\u001b[A\n",
      " 31%|██▍     | 46/150 [00:04<00:12,  8.46trial/s, best loss: 51.39119281888758]\u001b[A\n",
      " 31%|██▌     | 47/150 [00:04<00:12,  8.50trial/s, best loss: 51.39119281888758]\u001b[A\n",
      " 32%|██▌     | 48/150 [00:04<00:12,  8.43trial/s, best loss: 51.39119281888758]\u001b[A\n",
      " 33%|██▌     | 49/150 [00:04<00:11,  8.66trial/s, best loss: 51.39119281888758]\u001b[A\n",
      " 33%|██▋     | 50/150 [00:04<00:11,  8.56trial/s, best loss: 51.39119281888758]\u001b[A\n",
      " 34%|██▋     | 51/150 [00:04<00:11,  8.47trial/s, best loss: 51.39119281888758]\u001b[A\n",
      " 35%|██▊     | 52/150 [00:05<00:11,  8.41trial/s, best loss: 51.39119281888758]\u001b[A\n",
      " 35%|██▊     | 53/150 [00:05<00:11,  8.51trial/s, best loss: 51.39119281888758]\u001b[A\n",
      " 36%|██▉     | 54/150 [00:05<00:10,  8.91trial/s, best loss: 51.39119281888758]\u001b[A\n",
      " 37%|██▉     | 55/150 [00:05<00:11,  8.55trial/s, best loss: 51.39119281888758]\u001b[A\n",
      " 37%|██▉     | 56/150 [00:05<00:11,  8.42trial/s, best loss: 51.39119281888758]\u001b[A\n",
      " 38%|███     | 57/150 [00:05<00:11,  8.41trial/s, best loss: 51.39119281888758]\u001b[A\n",
      " 39%|███     | 58/150 [00:05<00:11,  8.12trial/s, best loss: 51.39119281888758]\u001b[A\n",
      " 39%|███▏    | 59/150 [00:05<00:11,  8.09trial/s, best loss: 51.39119281888758]\u001b[A\n",
      " 40%|███▏    | 60/150 [00:05<00:11,  7.96trial/s, best loss: 51.39119281888758]\u001b[A\n",
      " 41%|███▎    | 61/150 [00:06<00:11,  7.84trial/s, best loss: 51.39119281888758]\u001b[A\n",
      " 41%|███▎    | 62/150 [00:06<00:11,  7.80trial/s, best loss: 51.39119281888758]\u001b[A\n",
      " 42%|███▎    | 63/150 [00:06<00:11,  7.75trial/s, best loss: 51.39119281888758]\u001b[A\n",
      " 43%|███▍    | 64/150 [00:06<00:10,  7.91trial/s, best loss: 51.39119281888758]\u001b[A\n",
      " 43%|███▍    | 65/150 [00:06<00:10,  7.96trial/s, best loss: 50.42792702774972]\u001b[A\n",
      " 44%|███▌    | 66/150 [00:06<00:10,  8.01trial/s, best loss: 50.42792702774972]\u001b[A\n",
      " 45%|███▌    | 67/150 [00:06<00:10,  8.01trial/s, best loss: 50.42792702774972]\u001b[A\n",
      " 45%|███▋    | 68/150 [00:06<00:10,  7.85trial/s, best loss: 50.42792702774972]\u001b[A\n",
      " 46%|███▋    | 69/150 [00:07<00:10,  7.90trial/s, best loss: 50.42792702774972]\u001b[A\n",
      " 47%|████▏    | 70/150 [00:07<00:10,  7.89trial/s, best loss: 48.6502128502943]\u001b[A\n",
      " 47%|████▎    | 71/150 [00:07<00:10,  7.85trial/s, best loss: 48.6502128502943]\u001b[A\n",
      " 48%|████▎    | 72/150 [00:07<00:11,  6.93trial/s, best loss: 48.6502128502943]\u001b[A\n",
      " 49%|████▍    | 73/150 [00:07<00:14,  5.34trial/s, best loss: 48.6502128502943]\u001b[A\n",
      " 49%|████▍    | 74/150 [00:08<00:16,  4.72trial/s, best loss: 48.6502128502943]\u001b[A\n",
      " 50%|████▌    | 75/150 [00:08<00:16,  4.51trial/s, best loss: 48.6502128502943]\u001b[A\n",
      " 51%|████▌    | 76/150 [00:08<00:17,  4.22trial/s, best loss: 48.6502128502943]\u001b[A\n",
      " 51%|████▌    | 77/150 [00:08<00:18,  4.05trial/s, best loss: 48.6502128502943]\u001b[A\n",
      " 52%|████▋    | 78/150 [00:09<00:18,  4.00trial/s, best loss: 48.6502128502943]\u001b[A\n",
      " 53%|████▋    | 79/150 [00:09<00:17,  4.02trial/s, best loss: 48.6502128502943]\u001b[A\n",
      " 53%|████▊    | 80/150 [00:09<00:18,  3.88trial/s, best loss: 48.6502128502943]\u001b[A\n",
      " 54%|████▊    | 81/150 [00:09<00:17,  3.85trial/s, best loss: 48.6502128502943]\u001b[A\n",
      " 55%|████▉    | 82/150 [00:10<00:18,  3.72trial/s, best loss: 48.6502128502943]\u001b[A\n",
      " 55%|████▉    | 83/150 [00:10<00:17,  3.78trial/s, best loss: 48.6502128502943]\u001b[A\n",
      " 56%|█████    | 84/150 [00:10<00:17,  3.73trial/s, best loss: 48.6502128502943]\u001b[A\n",
      " 57%|█████    | 85/150 [00:11<00:17,  3.69trial/s, best loss: 48.6502128502943]\u001b[A\n",
      " 57%|█████▏   | 86/150 [00:11<00:17,  3.73trial/s, best loss: 48.6502128502943]\u001b[A\n",
      " 58%|█████▏   | 87/150 [00:11<00:16,  3.81trial/s, best loss: 48.6502128502943]\u001b[A\n",
      " 59%|█████▎   | 88/150 [00:11<00:15,  4.04trial/s, best loss: 48.6502128502943]\u001b[A\n",
      " 59%|█████▎   | 89/150 [00:12<00:15,  3.95trial/s, best loss: 48.6502128502943]\u001b[A\n",
      " 60%|█████▍   | 90/150 [00:12<00:16,  3.72trial/s, best loss: 48.6502128502943]\u001b[A\n",
      " 61%|█████▍   | 91/150 [00:15<00:57,  1.02trial/s, best loss: 48.6502128502943]\u001b[A\n",
      " 61%|█████▌   | 92/150 [00:17<01:24,  1.45s/trial, best loss: 48.6502128502943]\u001b[A\n",
      " 62%|█████▌   | 93/150 [00:17<01:01,  1.07s/trial, best loss: 48.6502128502943]\u001b[A\n",
      " 63%|█████▋   | 94/150 [00:17<00:45,  1.23trial/s, best loss: 48.6502128502943]\u001b[A\n",
      " 63%|█████▋   | 95/150 [00:18<00:34,  1.60trial/s, best loss: 48.6502128502943]\u001b[A\n",
      " 64%|█████▊   | 96/150 [00:18<00:26,  2.01trial/s, best loss: 48.6502128502943]\u001b[A\n",
      " 65%|█████▊   | 97/150 [00:18<00:21,  2.44trial/s, best loss: 48.6502128502943]\u001b[A\n",
      " 65%|█████▉   | 98/150 [00:18<00:18,  2.87trial/s, best loss: 48.6502128502943]\u001b[A\n",
      " 66%|█████▉   | 99/150 [00:18<00:15,  3.36trial/s, best loss: 48.6502128502943]\u001b[A\n",
      " 67%|█████▎  | 100/150 [00:19<00:13,  3.69trial/s, best loss: 48.6502128502943]\u001b[A\n",
      " 67%|█████▍  | 101/150 [00:19<00:12,  4.04trial/s, best loss: 48.6502128502943]\u001b[A\n",
      " 68%|█████▍  | 102/150 [00:19<00:11,  4.22trial/s, best loss: 48.6502128502943]\u001b[A\n",
      " 69%|█████▍  | 103/150 [00:19<00:11,  4.08trial/s, best loss: 48.6502128502943]\u001b[A\n",
      " 69%|█████▌  | 104/150 [00:20<00:10,  4.21trial/s, best loss: 48.6502128502943]\u001b[A\n",
      " 70%|█████▌  | 105/150 [00:20<00:10,  4.43trial/s, best loss: 48.6502128502943]\u001b[A\n",
      " 71%|█████▋  | 106/150 [00:20<00:09,  4.49trial/s, best loss: 48.6502128502943]\u001b[A\n",
      " 71%|█████▋  | 107/150 [00:20<00:09,  4.49trial/s, best loss: 48.6502128502943]\u001b[A\n",
      " 72%|█████▊  | 108/150 [00:20<00:08,  4.71trial/s, best loss: 48.6502128502943]\u001b[A\n",
      " 73%|█████▊  | 109/150 [00:21<00:08,  4.76trial/s, best loss: 48.6502128502943]\u001b[A\n",
      " 73%|█████▊  | 110/150 [00:21<00:08,  4.75trial/s, best loss: 48.6502128502943]\u001b[A\n",
      " 74%|█████▉  | 111/150 [00:21<00:08,  4.59trial/s, best loss: 48.6502128502943]\u001b[A\n",
      " 75%|█████▉  | 112/150 [00:21<00:07,  4.92trial/s, best loss: 48.6502128502943]\u001b[A\n",
      " 75%|██████  | 113/150 [00:21<00:07,  4.94trial/s, best loss: 48.6502128502943]\u001b[A\n",
      " 76%|██████  | 114/150 [00:22<00:07,  4.79trial/s, best loss: 48.6502128502943]\u001b[A\n",
      " 77%|██████▏ | 115/150 [00:22<00:07,  4.69trial/s, best loss: 48.6502128502943]\u001b[A\n",
      " 77%|██████▏ | 116/150 [00:22<00:07,  4.71trial/s, best loss: 48.6502128502943]\u001b[A\n",
      " 78%|██████▏ | 117/150 [00:22<00:06,  4.79trial/s, best loss: 48.6502128502943]\u001b[A\n"
     ]
    },
    {
     "name": "stdout",
     "output_type": "stream",
     "text": [
      " 79%|██████▎ | 118/150 [00:22<00:06,  4.68trial/s, best loss: 48.6502128502943]\u001b[A\n",
      " 79%|██████▎ | 119/150 [00:23<00:06,  4.77trial/s, best loss: 48.6502128502943]\u001b[A\n",
      " 80%|██████▍ | 120/150 [00:23<00:06,  4.83trial/s, best loss: 48.6502128502943]\u001b[A\n",
      " 81%|██████▍ | 121/150 [00:23<00:05,  5.11trial/s, best loss: 48.6502128502943]\u001b[A\n",
      " 81%|██████▌ | 122/150 [00:23<00:05,  5.06trial/s, best loss: 48.6502128502943]\u001b[A\n",
      " 82%|██████▌ | 123/150 [00:23<00:05,  5.10trial/s, best loss: 48.6502128502943]\u001b[A\n",
      " 83%|██████▌ | 124/150 [00:24<00:05,  5.10trial/s, best loss: 48.6502128502943]\u001b[A\n",
      " 83%|██████▋ | 125/150 [00:24<00:04,  5.01trial/s, best loss: 48.6502128502943]\u001b[A\n",
      " 84%|██████▋ | 126/150 [00:24<00:04,  5.11trial/s, best loss: 48.6502128502943]\u001b[A\n",
      " 85%|██████▊ | 127/150 [00:24<00:04,  5.26trial/s, best loss: 47.2087491879946]\u001b[A\n",
      " 85%|██████▊ | 128/150 [00:24<00:04,  5.22trial/s, best loss: 47.2087491879946]\u001b[A\n",
      " 86%|██████▉ | 129/150 [00:25<00:04,  5.00trial/s, best loss: 47.2087491879946]\u001b[A\n",
      " 87%|██████▉ | 130/150 [00:25<00:03,  5.07trial/s, best loss: 47.2087491879946]\u001b[A\n",
      " 87%|██████▉ | 131/150 [00:25<00:03,  5.10trial/s, best loss: 47.2087491879946]\u001b[A\n",
      " 88%|███████ | 132/150 [00:25<00:03,  5.15trial/s, best loss: 47.2087491879946]\u001b[A\n",
      " 89%|███████ | 133/150 [00:25<00:03,  5.11trial/s, best loss: 47.2087491879946]\u001b[A\n",
      " 89%|███████▏| 134/150 [00:26<00:03,  5.27trial/s, best loss: 47.2087491879946]\u001b[A\n",
      " 90%|███████▏| 135/150 [00:26<00:02,  5.34trial/s, best loss: 47.2087491879946]\u001b[A\n",
      " 91%|███████▎| 136/150 [00:26<00:02,  5.24trial/s, best loss: 47.2087491879946]\u001b[A\n",
      " 91%|███████▎| 137/150 [00:26<00:02,  5.20trial/s, best loss: 47.2087491879946]\u001b[A\n",
      " 92%|███████▎| 138/150 [00:26<00:02,  5.15trial/s, best loss: 47.2087491879946]\u001b[A\n",
      " 93%|███████▍| 139/150 [00:27<00:02,  5.06trial/s, best loss: 47.2087491879946]\u001b[A\n",
      " 93%|███████▍| 140/150 [00:27<00:01,  5.13trial/s, best loss: 47.2087491879946]\u001b[A\n",
      " 94%|███████▌| 141/150 [00:27<00:01,  5.17trial/s, best loss: 47.2087491879946]\u001b[A\n",
      " 95%|███████▌| 142/150 [00:27<00:01,  5.72trial/s, best loss: 47.2087491879946]\u001b[A\n",
      " 95%|███████▋| 143/150 [00:27<00:01,  6.11trial/s, best loss: 47.2087491879946]\u001b[A\n",
      " 96%|███████▋| 144/150 [00:27<00:00,  6.61trial/s, best loss: 47.2087491879946]\u001b[A\n",
      " 97%|███████▋| 145/150 [00:27<00:00,  7.03trial/s, best loss: 47.2087491879946]\u001b[A\n",
      " 97%|███████▊| 146/150 [00:28<00:00,  7.08trial/s, best loss: 47.2087491879946]\u001b[A\n",
      " 98%|███████▊| 147/150 [00:28<00:00,  7.28trial/s, best loss: 47.2087491879946]\u001b[A\n",
      " 99%|███████▉| 148/150 [00:28<00:00,  7.37trial/s, best loss: 47.2087491879946]\u001b[A\n",
      " 99%|███████▉| 149/150 [00:28<00:00,  7.60trial/s, best loss: 47.2087491879946]\u001b[A\n",
      "100%|████████| 150/150 [00:28<00:00,  5.25trial/s, best loss: 47.2087491879946]\u001b[A\n",
      "\n",
      "  0%|                                  | 0/150 [00:00<?, ?trial/s, best loss=?]\u001b[A\n",
      "  1%|         | 1/150 [00:00<00:17,  8.33trial/s, best loss: 52.87914113072621]\u001b[A\n",
      "  2%|▏        | 3/150 [00:00<00:17,  8.60trial/s, best loss: 52.87914113072621]\u001b[A\n",
      "  3%|▎        | 5/150 [00:00<00:12, 11.45trial/s, best loss: 52.87914113072621]\u001b[A\n",
      "  5%|▍        | 7/150 [00:00<00:16,  8.47trial/s, best loss: 52.87914113072621]\u001b[A\n",
      "  5%|▍        | 8/150 [00:00<00:17,  8.12trial/s, best loss: 52.87914113072621]\u001b[A\n",
      "  6%|▌        | 9/150 [00:01<00:18,  7.55trial/s, best loss: 52.87914113072621]\u001b[A\n",
      "  7%|▌       | 10/150 [00:01<00:19,  7.16trial/s, best loss: 52.87914113072621]\u001b[A\n",
      "  8%|▋       | 12/150 [00:01<00:17,  7.88trial/s, best loss: 52.87914113072621]\u001b[A\n",
      "  9%|▋       | 13/150 [00:01<00:19,  7.18trial/s, best loss: 52.87914113072621]\u001b[A\n",
      " 10%|▊       | 15/150 [00:01<00:16,  8.23trial/s, best loss: 52.87914113072621]\u001b[A\n",
      " 11%|▊       | 16/150 [00:02<00:22,  5.88trial/s, best loss: 52.87914113072621]\u001b[A\n",
      " 11%|▉       | 17/150 [00:02<00:22,  5.88trial/s, best loss: 52.87914113072621]\u001b[A\n",
      " 12%|▉       | 18/150 [00:02<00:28,  4.68trial/s, best loss: 52.87914113072621]\u001b[A\n",
      " 13%|█       | 19/150 [00:02<00:25,  5.09trial/s, best loss: 52.87914113072621]\u001b[A\n",
      " 13%|█       | 20/150 [00:03<00:26,  4.92trial/s, best loss: 52.87914113072621]\u001b[A\n",
      " 14%|█       | 21/150 [00:03<00:26,  4.88trial/s, best loss: 52.87914113072621]\u001b[A\n",
      " 15%|█▏      | 22/150 [00:03<00:26,  4.84trial/s, best loss: 52.87914113072621]\u001b[A\n",
      " 15%|█▏      | 23/150 [00:03<00:26,  4.82trial/s, best loss: 52.87914113072621]\u001b[A\n",
      " 16%|█▎      | 24/150 [00:03<00:28,  4.43trial/s, best loss: 52.87914113072621]\u001b[A\n",
      " 17%|█▎      | 25/150 [00:04<00:28,  4.35trial/s, best loss: 52.87914113072621]\u001b[A\n",
      " 17%|█▍      | 26/150 [00:04<00:30,  4.08trial/s, best loss: 52.87914113072621]\u001b[A\n",
      " 18%|█▍      | 27/150 [00:04<00:29,  4.11trial/s, best loss: 52.87914113072621]\u001b[A\n",
      " 19%|█▍      | 28/150 [00:04<00:29,  4.08trial/s, best loss: 52.87914113072621]\u001b[A\n",
      " 19%|█▌      | 29/150 [00:05<00:26,  4.49trial/s, best loss: 52.87914113072621]\u001b[A\n",
      " 20%|█▌      | 30/150 [00:05<00:28,  4.17trial/s, best loss: 52.87914113072621]\u001b[A\n",
      " 21%|█▋      | 31/150 [00:05<00:27,  4.39trial/s, best loss: 52.87914113072621]\u001b[A\n",
      " 21%|█▋      | 32/150 [00:05<00:30,  3.91trial/s, best loss: 52.87914113072621]\u001b[A\n",
      " 22%|█▊      | 33/150 [00:06<00:29,  3.99trial/s, best loss: 52.87914113072621]\u001b[A\n",
      " 23%|█▊      | 34/150 [00:06<00:30,  3.85trial/s, best loss: 52.87914113072621]\u001b[A\n",
      " 23%|█▊      | 35/150 [00:06<00:26,  4.27trial/s, best loss: 52.87914113072621]\u001b[A\n",
      " 24%|█▉      | 36/150 [00:06<00:25,  4.41trial/s, best loss: 52.87914113072621]\u001b[A\n",
      " 25%|█▉      | 37/150 [00:07<00:26,  4.33trial/s, best loss: 52.87914113072621]\u001b[A\n",
      " 25%|██      | 38/150 [00:07<00:21,  5.14trial/s, best loss: 52.87914113072621]\u001b[A\n",
      " 26%|██      | 39/150 [00:07<00:25,  4.36trial/s, best loss: 52.87914113072621]\u001b[A\n",
      " 27%|██▏     | 40/150 [00:07<00:26,  4.12trial/s, best loss: 52.87914113072621]\u001b[A\n",
      " 27%|██▏     | 41/150 [00:08<00:27,  3.94trial/s, best loss: 52.87914113072621]\u001b[A\n",
      " 28%|██▏     | 42/150 [00:08<00:29,  3.65trial/s, best loss: 52.87914113072621]\u001b[A\n",
      " 29%|██▎     | 43/150 [00:08<00:28,  3.75trial/s, best loss: 52.87914113072621]\u001b[A\n",
      " 29%|██▎     | 44/150 [00:08<00:25,  4.15trial/s, best loss: 52.87914113072621]\u001b[A\n",
      " 30%|██▍     | 45/150 [00:09<00:24,  4.26trial/s, best loss: 52.87914113072621]\u001b[A\n",
      " 31%|██▍     | 46/150 [00:09<00:24,  4.23trial/s, best loss: 52.87914113072621]\u001b[A\n",
      " 31%|██▌     | 47/150 [00:09<00:20,  5.04trial/s, best loss: 52.87914113072621]\u001b[A\n",
      " 32%|██▌     | 48/150 [00:09<00:19,  5.35trial/s, best loss: 52.87914113072621]\u001b[A\n",
      " 33%|██▌     | 49/150 [00:09<00:21,  4.66trial/s, best loss: 52.87914113072621]\u001b[A\n",
      " 33%|██▋     | 50/150 [00:10<00:24,  4.11trial/s, best loss: 52.87914113072621]\u001b[A\n",
      " 34%|██▋     | 51/150 [00:10<00:22,  4.46trial/s, best loss: 52.87914113072621]\u001b[A\n",
      " 35%|██▊     | 52/150 [00:10<00:21,  4.48trial/s, best loss: 52.87914113072621]\u001b[A\n",
      " 35%|██▊     | 53/150 [00:10<00:21,  4.41trial/s, best loss: 52.87914113072621]\u001b[A\n",
      " 36%|██▉     | 54/150 [00:11<00:28,  3.37trial/s, best loss: 52.87914113072621]\u001b[A\n",
      " 37%|██▉     | 55/150 [00:11<00:25,  3.65trial/s, best loss: 52.87914113072621]\u001b[A\n",
      " 37%|██▉     | 56/150 [00:11<00:26,  3.50trial/s, best loss: 52.87914113072621]\u001b[A\n",
      " 38%|███     | 57/150 [00:11<00:23,  3.98trial/s, best loss: 52.87914113072621]\u001b[A\n",
      " 39%|███     | 58/150 [00:12<00:19,  4.72trial/s, best loss: 52.87914113072621]\u001b[A\n",
      " 40%|███▏    | 60/150 [00:12<00:15,  5.74trial/s, best loss: 52.87914113072621]\u001b[A\n",
      " 41%|███▎    | 61/150 [00:12<00:14,  6.22trial/s, best loss: 52.87914113072621]\u001b[A\n",
      " 42%|███▎    | 63/150 [00:12<00:11,  7.27trial/s, best loss: 52.87914113072621]\u001b[A\n",
      " 43%|███▍    | 64/150 [00:12<00:11,  7.42trial/s, best loss: 52.87914113072621]\u001b[A\n",
      " 43%|███▍    | 65/150 [00:12<00:10,  7.93trial/s, best loss: 52.87914113072621]\u001b[A\n",
      " 44%|███▌    | 66/150 [00:12<00:10,  8.03trial/s, best loss: 52.87914113072621]\u001b[A\n",
      " 45%|███▋    | 68/150 [00:13<00:08,  9.29trial/s, best loss: 52.87914113072621]\u001b[A\n",
      " 47%|███▋    | 70/150 [00:13<00:07, 10.92trial/s, best loss: 52.87914113072621]\u001b[A\n",
      " 48%|███▊    | 72/150 [00:13<00:08,  9.36trial/s, best loss: 52.87914113072621]\u001b[A\n",
      " 49%|███▉    | 74/150 [00:13<00:08,  9.06trial/s, best loss: 52.87914113072621]\u001b[A\n",
      " 50%|████    | 75/150 [00:13<00:08,  8.62trial/s, best loss: 52.87914113072621]\u001b[A\n"
     ]
    },
    {
     "name": "stdout",
     "output_type": "stream",
     "text": [
      " 51%|████    | 76/150 [00:14<00:08,  8.55trial/s, best loss: 52.87914113072621]\u001b[A\n",
      " 51%|████    | 77/150 [00:14<00:08,  8.33trial/s, best loss: 52.87914113072621]\u001b[A\n",
      " 52%|████▏   | 78/150 [00:14<00:09,  7.54trial/s, best loss: 52.87914113072621]\u001b[A\n",
      " 53%|████▎   | 80/150 [00:14<00:07,  9.22trial/s, best loss: 52.87914113072621]\u001b[A\n",
      " 54%|████▎   | 81/150 [00:14<00:07,  9.00trial/s, best loss: 52.87914113072621]\u001b[A\n",
      " 55%|████▎   | 82/150 [00:14<00:08,  8.28trial/s, best loss: 52.87914113072621]\u001b[A\n",
      " 55%|████▍   | 83/150 [00:14<00:08,  7.95trial/s, best loss: 52.87914113072621]\u001b[A\n",
      " 56%|████▍   | 84/150 [00:15<00:08,  7.88trial/s, best loss: 52.87914113072621]\u001b[A\n",
      " 57%|████▌   | 86/150 [00:15<00:08,  7.93trial/s, best loss: 52.87914113072621]\u001b[A\n",
      " 58%|████▋   | 87/150 [00:15<00:07,  8.02trial/s, best loss: 52.87914113072621]\u001b[A\n",
      " 59%|████▋   | 89/150 [00:15<00:06,  9.21trial/s, best loss: 52.87914113072621]\u001b[A\n",
      " 60%|████▊   | 90/150 [00:15<00:06,  9.18trial/s, best loss: 52.87914113072621]\u001b[A\n",
      " 61%|████▉   | 92/150 [00:15<00:06,  8.99trial/s, best loss: 52.87914113072621]\u001b[A\n",
      " 62%|████▉   | 93/150 [00:16<00:06,  8.83trial/s, best loss: 52.87914113072621]\u001b[A\n",
      " 63%|█████   | 95/150 [00:16<00:06,  8.23trial/s, best loss: 52.87914113072621]\u001b[A\n",
      " 64%|█████   | 96/150 [00:16<00:07,  7.58trial/s, best loss: 52.87914113072621]\u001b[A\n",
      " 65%|█████▏  | 97/150 [00:16<00:07,  7.34trial/s, best loss: 52.87914113072621]\u001b[A\n",
      " 65%|█████▏  | 98/150 [00:16<00:06,  7.57trial/s, best loss: 52.87914113072621]\u001b[A\n",
      " 66%|█████▎  | 99/150 [00:16<00:07,  6.55trial/s, best loss: 52.87914113072621]\u001b[A\n",
      " 67%|████▋  | 100/150 [00:17<00:10,  4.90trial/s, best loss: 52.87914113072621]\u001b[A\n",
      " 67%|████▋  | 101/150 [00:17<00:09,  5.14trial/s, best loss: 52.87914113072621]\u001b[A\n",
      " 68%|████▊  | 102/150 [00:17<00:08,  5.78trial/s, best loss: 52.87914113072621]\u001b[A\n",
      " 69%|████▊  | 103/150 [00:17<00:08,  5.53trial/s, best loss: 52.87914113072621]\u001b[A\n",
      " 69%|████▊  | 104/150 [00:18<00:09,  4.70trial/s, best loss: 52.87914113072621]\u001b[A\n",
      " 70%|████▉  | 105/150 [00:18<00:11,  4.09trial/s, best loss: 52.87914113072621]\u001b[A\n",
      " 71%|████▉  | 106/150 [00:18<00:11,  3.97trial/s, best loss: 52.87914113072621]\u001b[A\n",
      " 71%|████▉  | 107/150 [00:18<00:11,  3.67trial/s, best loss: 52.87914113072621]\u001b[A\n",
      " 72%|█████  | 108/150 [00:19<00:11,  3.72trial/s, best loss: 52.87914113072621]\u001b[A\n",
      " 73%|█████  | 109/150 [00:19<00:12,  3.31trial/s, best loss: 52.87914113072621]\u001b[A\n",
      " 73%|█████▏ | 110/150 [00:19<00:11,  3.42trial/s, best loss: 52.87914113072621]\u001b[A\n",
      " 74%|█████▏ | 111/150 [00:20<00:10,  3.74trial/s, best loss: 52.87914113072621]\u001b[A\n",
      " 75%|█████▏ | 112/150 [00:20<00:10,  3.64trial/s, best loss: 52.87914113072621]\u001b[A\n",
      " 75%|█████▎ | 113/150 [00:20<00:09,  3.79trial/s, best loss: 52.87914113072621]\u001b[A\n",
      " 76%|█████▎ | 114/150 [00:20<00:10,  3.60trial/s, best loss: 52.87914113072621]\u001b[A\n",
      " 77%|█████▎ | 115/150 [00:21<00:08,  4.23trial/s, best loss: 52.87914113072621]\u001b[A\n",
      " 77%|█████▍ | 116/150 [00:21<00:09,  3.70trial/s, best loss: 52.87914113072621]\u001b[A\n",
      " 78%|█████▍ | 117/150 [00:21<00:08,  3.70trial/s, best loss: 47.82751392101294]\u001b[A\n",
      " 79%|█████▌ | 118/150 [00:22<00:09,  3.51trial/s, best loss: 47.82751392101294]\u001b[A\n",
      " 79%|█████▌ | 119/150 [00:22<00:09,  3.19trial/s, best loss: 47.82751392101294]\u001b[A\n",
      " 80%|█████▌ | 120/150 [00:22<00:09,  3.11trial/s, best loss: 47.82751392101294]\u001b[A\n",
      " 81%|█████▋ | 121/150 [00:23<00:09,  3.20trial/s, best loss: 47.82751392101294]\u001b[A\n",
      " 81%|█████▋ | 122/150 [00:23<00:09,  3.01trial/s, best loss: 47.82751392101294]\u001b[A\n",
      " 82%|█████▋ | 123/150 [00:23<00:09,  2.72trial/s, best loss: 47.82751392101294]\u001b[A\n",
      " 83%|█████▊ | 124/150 [00:24<00:09,  2.74trial/s, best loss: 47.82751392101294]\u001b[A\n",
      " 83%|█████▊ | 125/150 [00:24<00:08,  2.79trial/s, best loss: 47.82751392101294]\u001b[A\n",
      " 84%|█████▉ | 126/150 [00:25<00:09,  2.44trial/s, best loss: 47.82751392101294]\u001b[A\n",
      " 85%|█████▉ | 127/150 [00:25<00:08,  2.57trial/s, best loss: 47.82751392101294]\u001b[A\n",
      " 85%|█████▉ | 128/150 [00:25<00:08,  2.67trial/s, best loss: 47.82751392101294]\u001b[A\n",
      " 86%|██████ | 129/150 [00:26<00:08,  2.56trial/s, best loss: 47.82751392101294]\u001b[A\n",
      " 87%|██████ | 130/150 [00:26<00:07,  2.75trial/s, best loss: 47.82751392101294]\u001b[A\n",
      " 87%|██████ | 131/150 [00:26<00:06,  2.74trial/s, best loss: 47.82751392101294]\u001b[A\n",
      " 88%|██████▏| 132/150 [00:26<00:05,  3.50trial/s, best loss: 47.82751392101294]\u001b[A\n",
      " 89%|██████▏| 133/150 [00:27<00:04,  4.08trial/s, best loss: 47.82751392101294]\u001b[A\n",
      " 89%|██████▎| 134/150 [00:27<00:03,  4.75trial/s, best loss: 47.82751392101294]\u001b[A\n",
      " 90%|██████▎| 135/150 [00:27<00:02,  5.45trial/s, best loss: 47.82751392101294]\u001b[A\n",
      " 91%|██████▎| 136/150 [00:27<00:02,  6.20trial/s, best loss: 47.82751392101294]\u001b[A\n",
      " 91%|██████▍| 137/150 [00:27<00:02,  6.45trial/s, best loss: 47.82751392101294]\u001b[A\n",
      " 92%|██████▍| 138/150 [00:27<00:01,  6.92trial/s, best loss: 47.82751392101294]\u001b[A\n",
      " 93%|██████▍| 139/150 [00:27<00:01,  6.84trial/s, best loss: 47.82751392101294]\u001b[A\n",
      " 93%|██████▌| 140/150 [00:28<00:01,  7.08trial/s, best loss: 47.82751392101294]\u001b[A\n",
      " 94%|██████▌| 141/150 [00:28<00:01,  6.54trial/s, best loss: 47.82751392101294]\u001b[A\n",
      " 95%|██████▋| 142/150 [00:28<00:01,  6.99trial/s, best loss: 47.82751392101294]\u001b[A\n",
      " 95%|██████▋| 143/150 [00:28<00:00,  7.68trial/s, best loss: 47.82751392101294]\u001b[A\n",
      " 96%|██████▋| 144/150 [00:28<00:00,  7.19trial/s, best loss: 47.82751392101294]\u001b[A\n",
      " 97%|██████▊| 145/150 [00:28<00:00,  7.33trial/s, best loss: 47.82751392101294]\u001b[A\n",
      " 97%|██████▊| 146/150 [00:28<00:00,  7.28trial/s, best loss: 47.82751392101294]\u001b[A\n",
      " 98%|██████▊| 147/150 [00:29<00:00,  7.40trial/s, best loss: 47.82751392101294]\u001b[A\n",
      " 99%|██████▉| 148/150 [00:29<00:00,  7.32trial/s, best loss: 47.82751392101294]\u001b[A\n",
      "100%|███████| 150/150 [00:29<00:00,  5.11trial/s, best loss: 47.82751392101294]\u001b[A\n",
      "\n",
      "  0%|                                  | 0/150 [00:00<?, ?trial/s, best loss=?]\u001b[A"
     ]
    },
    {
     "name": "stderr",
     "output_type": "stream",
     "text": [
      "C:\\Users\\J\\anaconda3\\lib\\site-packages\\sklearn\\ensemble\\_base.py:166: FutureWarning: `base_estimator` was renamed to `estimator` in version 1.2 and will be removed in 1.4.\n",
      "  warnings.warn(\n",
      "\n",
      "  0%|                                                    | 0/1 [01:15<?, ?it/s]"
     ]
    },
    {
     "name": "stdout",
     "output_type": "stream",
     "text": [
      "\n",
      "  1%|        | 1/150 [00:00<00:14, 10.00trial/s, best loss: 207.73586133853155]\u001b[A"
     ]
    },
    {
     "name": "stderr",
     "output_type": "stream",
     "text": [
      "C:\\Users\\J\\anaconda3\\lib\\site-packages\\sklearn\\ensemble\\_base.py:166: FutureWarning: `base_estimator` was renamed to `estimator` in version 1.2 and will be removed in 1.4.\n",
      "  warnings.warn(\n",
      "\n",
      "  0%|                                                    | 0/1 [01:15<?, ?it/s]"
     ]
    },
    {
     "name": "stdout",
     "output_type": "stream",
     "text": [
      "\n",
      "  1%|▏         | 2/150 [00:00<00:22,  6.54trial/s, best loss: 84.2079062703054]\u001b[A"
     ]
    },
    {
     "name": "stderr",
     "output_type": "stream",
     "text": [
      "C:\\Users\\J\\anaconda3\\lib\\site-packages\\sklearn\\ensemble\\_base.py:166: FutureWarning: `base_estimator` was renamed to `estimator` in version 1.2 and will be removed in 1.4.\n",
      "  warnings.warn(\n",
      "\n",
      "  0%|                                                    | 0/1 [01:15<?, ?it/s]"
     ]
    },
    {
     "name": "stdout",
     "output_type": "stream",
     "text": [
      "\n",
      "  2%|▏         | 3/150 [00:00<00:24,  6.05trial/s, best loss: 58.3467270643275]\u001b[A"
     ]
    },
    {
     "name": "stderr",
     "output_type": "stream",
     "text": [
      "C:\\Users\\J\\anaconda3\\lib\\site-packages\\sklearn\\ensemble\\_base.py:166: FutureWarning: `base_estimator` was renamed to `estimator` in version 1.2 and will be removed in 1.4.\n",
      "  warnings.warn(\n",
      "\n",
      "  0%|                                                    | 0/1 [01:15<?, ?it/s]"
     ]
    },
    {
     "name": "stdout",
     "output_type": "stream",
     "text": [
      "\n",
      "  3%|▎         | 4/150 [00:00<00:22,  6.61trial/s, best loss: 58.3467270643275]\u001b[A"
     ]
    },
    {
     "name": "stderr",
     "output_type": "stream",
     "text": [
      "C:\\Users\\J\\anaconda3\\lib\\site-packages\\sklearn\\ensemble\\_base.py:166: FutureWarning: `base_estimator` was renamed to `estimator` in version 1.2 and will be removed in 1.4.\n",
      "  warnings.warn(\n",
      "\n",
      "C:\\Users\\J\\anaconda3\\lib\\site-packages\\sklearn\\ensemble\\_base.py:166: FutureWarning: `base_estimator` was renamed to `estimator` in version 1.2 and will be removed in 1.4.\n",
      "  warnings.warn(\n",
      "\n",
      "  0%|                                                    | 0/1 [01:16<?, ?it/s]"
     ]
    },
    {
     "name": "stdout",
     "output_type": "stream",
     "text": [
      "\n",
      "  4%|▍         | 6/150 [00:00<00:16,  8.81trial/s, best loss: 58.3467270643275]\u001b[A"
     ]
    },
    {
     "name": "stderr",
     "output_type": "stream",
     "text": [
      "C:\\Users\\J\\anaconda3\\lib\\site-packages\\sklearn\\ensemble\\_base.py:166: FutureWarning: `base_estimator` was renamed to `estimator` in version 1.2 and will be removed in 1.4.\n",
      "  warnings.warn(\n",
      "\n",
      "  0%|                                                    | 0/1 [01:16<?, ?it/s]"
     ]
    },
    {
     "name": "stdout",
     "output_type": "stream",
     "text": [
      "\n",
      "  5%|▍         | 7/150 [00:00<00:19,  7.28trial/s, best loss: 58.3467270643275]\u001b[A"
     ]
    },
    {
     "name": "stderr",
     "output_type": "stream",
     "text": [
      "C:\\Users\\J\\anaconda3\\lib\\site-packages\\sklearn\\ensemble\\_base.py:166: FutureWarning: `base_estimator` was renamed to `estimator` in version 1.2 and will be removed in 1.4.\n",
      "  warnings.warn(\n",
      "\n",
      "  0%|                                                    | 0/1 [01:16<?, ?it/s]"
     ]
    },
    {
     "name": "stdout",
     "output_type": "stream",
     "text": [
      "\n",
      "  5%|▌         | 8/150 [00:01<00:19,  7.24trial/s, best loss: 58.3467270643275]\u001b[A"
     ]
    },
    {
     "name": "stderr",
     "output_type": "stream",
     "text": [
      "C:\\Users\\J\\anaconda3\\lib\\site-packages\\sklearn\\ensemble\\_base.py:166: FutureWarning: `base_estimator` was renamed to `estimator` in version 1.2 and will be removed in 1.4.\n",
      "  warnings.warn(\n",
      "\n",
      "  0%|                                                    | 0/1 [01:16<?, ?it/s]"
     ]
    },
    {
     "name": "stdout",
     "output_type": "stream",
     "text": [
      "\n",
      "  6%|▌         | 9/150 [00:01<00:17,  7.87trial/s, best loss: 58.3467270643275]\u001b[A"
     ]
    },
    {
     "name": "stderr",
     "output_type": "stream",
     "text": [
      "C:\\Users\\J\\anaconda3\\lib\\site-packages\\sklearn\\ensemble\\_base.py:166: FutureWarning: `base_estimator` was renamed to `estimator` in version 1.2 and will be removed in 1.4.\n",
      "  warnings.warn(\n",
      "\n",
      "  0%|                                                    | 0/1 [01:16<?, ?it/s]"
     ]
    },
    {
     "name": "stdout",
     "output_type": "stream",
     "text": [
      "\n",
      "  7%|▌        | 10/150 [00:01<00:17,  7.81trial/s, best loss: 58.3467270643275]\u001b[A"
     ]
    },
    {
     "name": "stderr",
     "output_type": "stream",
     "text": [
      "C:\\Users\\J\\anaconda3\\lib\\site-packages\\sklearn\\ensemble\\_base.py:166: FutureWarning: `base_estimator` was renamed to `estimator` in version 1.2 and will be removed in 1.4.\n",
      "  warnings.warn(\n",
      "\n",
      "  0%|                                                    | 0/1 [01:16<?, ?it/s]"
     ]
    },
    {
     "name": "stdout",
     "output_type": "stream",
     "text": [
      "\n",
      "  7%|▋        | 11/150 [00:01<00:17,  7.78trial/s, best loss: 58.3467270643275]\u001b[A"
     ]
    },
    {
     "name": "stderr",
     "output_type": "stream",
     "text": [
      "C:\\Users\\J\\anaconda3\\lib\\site-packages\\sklearn\\ensemble\\_base.py:166: FutureWarning: `base_estimator` was renamed to `estimator` in version 1.2 and will be removed in 1.4.\n",
      "  warnings.warn(\n",
      "\n",
      "C:\\Users\\J\\anaconda3\\lib\\site-packages\\sklearn\\ensemble\\_base.py:166: FutureWarning: `base_estimator` was renamed to `estimator` in version 1.2 and will be removed in 1.4.\n",
      "  warnings.warn(\n",
      "\n",
      "  0%|                                                    | 0/1 [01:16<?, ?it/s]"
     ]
    },
    {
     "name": "stdout",
     "output_type": "stream",
     "text": [
      "\n",
      "  9%|▊        | 13/150 [00:01<00:13, 10.04trial/s, best loss: 58.3467270643275]\u001b[A"
     ]
    },
    {
     "name": "stderr",
     "output_type": "stream",
     "text": [
      "C:\\Users\\J\\anaconda3\\lib\\site-packages\\sklearn\\ensemble\\_base.py:166: FutureWarning: `base_estimator` was renamed to `estimator` in version 1.2 and will be removed in 1.4.\n",
      "  warnings.warn(\n",
      "\n",
      "C:\\Users\\J\\anaconda3\\lib\\site-packages\\sklearn\\ensemble\\_base.py:166: FutureWarning: `base_estimator` was renamed to `estimator` in version 1.2 and will be removed in 1.4.\n",
      "  warnings.warn(\n",
      "\n",
      "  0%|                                                    | 0/1 [01:17<?, ?it/s]"
     ]
    },
    {
     "name": "stdout",
     "output_type": "stream",
     "text": [
      "\n",
      " 10%|▉        | 15/150 [00:01<00:15,  8.96trial/s, best loss: 58.3467270643275]\u001b[A"
     ]
    },
    {
     "name": "stderr",
     "output_type": "stream",
     "text": [
      "C:\\Users\\J\\anaconda3\\lib\\site-packages\\sklearn\\ensemble\\_base.py:166: FutureWarning: `base_estimator` was renamed to `estimator` in version 1.2 and will be removed in 1.4.\n",
      "  warnings.warn(\n",
      "\n",
      "C:\\Users\\J\\anaconda3\\lib\\site-packages\\sklearn\\ensemble\\_base.py:166: FutureWarning: `base_estimator` was renamed to `estimator` in version 1.2 and will be removed in 1.4.\n",
      "  warnings.warn(\n",
      "\n",
      "  0%|                                                    | 0/1 [01:17<?, ?it/s]"
     ]
    },
    {
     "name": "stdout",
     "output_type": "stream",
     "text": [
      "\n",
      " 11%|█        | 17/150 [00:01<00:12, 10.35trial/s, best loss: 58.3467270643275]\u001b[A"
     ]
    },
    {
     "name": "stderr",
     "output_type": "stream",
     "text": [
      "C:\\Users\\J\\anaconda3\\lib\\site-packages\\sklearn\\ensemble\\_base.py:166: FutureWarning: `base_estimator` was renamed to `estimator` in version 1.2 and will be removed in 1.4.\n",
      "  warnings.warn(\n",
      "\n",
      "C:\\Users\\J\\anaconda3\\lib\\site-packages\\sklearn\\ensemble\\_base.py:166: FutureWarning: `base_estimator` was renamed to `estimator` in version 1.2 and will be removed in 1.4.\n",
      "  warnings.warn(\n",
      "\n",
      "  0%|                                                    | 0/1 [01:17<?, ?it/s]"
     ]
    },
    {
     "name": "stdout",
     "output_type": "stream",
     "text": [
      "\n",
      " 13%|█       | 19/150 [00:02<00:15,  8.23trial/s, best loss: 52.46603736192334]\u001b[A"
     ]
    },
    {
     "name": "stderr",
     "output_type": "stream",
     "text": [
      "C:\\Users\\J\\anaconda3\\lib\\site-packages\\sklearn\\ensemble\\_base.py:166: FutureWarning: `base_estimator` was renamed to `estimator` in version 1.2 and will be removed in 1.4.\n",
      "  warnings.warn(\n",
      "\n",
      "  0%|                                                    | 0/1 [01:17<?, ?it/s]"
     ]
    },
    {
     "name": "stdout",
     "output_type": "stream",
     "text": [
      "\n",
      " 13%|█       | 20/150 [00:02<00:16,  7.87trial/s, best loss: 52.46603736192334]\u001b[A"
     ]
    },
    {
     "name": "stderr",
     "output_type": "stream",
     "text": [
      "C:\\Users\\J\\anaconda3\\lib\\site-packages\\sklearn\\ensemble\\_base.py:166: FutureWarning: `base_estimator` was renamed to `estimator` in version 1.2 and will be removed in 1.4.\n",
      "  warnings.warn(\n",
      "\n",
      "  0%|                                                    | 0/1 [01:17<?, ?it/s]"
     ]
    },
    {
     "name": "stdout",
     "output_type": "stream",
     "text": [
      "\n",
      " 14%|█       | 21/150 [00:02<00:18,  7.10trial/s, best loss: 52.46603736192334]\u001b[A"
     ]
    },
    {
     "name": "stderr",
     "output_type": "stream",
     "text": [
      "C:\\Users\\J\\anaconda3\\lib\\site-packages\\sklearn\\ensemble\\_base.py:166: FutureWarning: `base_estimator` was renamed to `estimator` in version 1.2 and will be removed in 1.4.\n",
      "  warnings.warn(\n",
      "\n",
      "  0%|                                                    | 0/1 [01:18<?, ?it/s]"
     ]
    },
    {
     "name": "stdout",
     "output_type": "stream",
     "text": [
      "\n",
      " 15%|█▏      | 22/150 [00:02<00:19,  6.56trial/s, best loss: 52.46603736192334]\u001b[A"
     ]
    },
    {
     "name": "stderr",
     "output_type": "stream",
     "text": [
      "C:\\Users\\J\\anaconda3\\lib\\site-packages\\sklearn\\ensemble\\_base.py:166: FutureWarning: `base_estimator` was renamed to `estimator` in version 1.2 and will be removed in 1.4.\n",
      "  warnings.warn(\n",
      "\n",
      "  0%|                                                    | 0/1 [01:18<?, ?it/s]"
     ]
    },
    {
     "name": "stdout",
     "output_type": "stream",
     "text": [
      "\n",
      " 15%|█▏      | 23/150 [00:03<00:20,  6.27trial/s, best loss: 52.46603736192334]\u001b[A"
     ]
    },
    {
     "name": "stderr",
     "output_type": "stream",
     "text": [
      "C:\\Users\\J\\anaconda3\\lib\\site-packages\\sklearn\\ensemble\\_base.py:166: FutureWarning: `base_estimator` was renamed to `estimator` in version 1.2 and will be removed in 1.4.\n",
      "  warnings.warn(\n",
      "\n",
      "  0%|                                                    | 0/1 [01:18<?, ?it/s]"
     ]
    },
    {
     "name": "stdout",
     "output_type": "stream",
     "text": [
      "\n",
      " 16%|█▎      | 24/150 [00:03<00:21,  5.87trial/s, best loss: 52.46603736192334]\u001b[A"
     ]
    },
    {
     "name": "stderr",
     "output_type": "stream",
     "text": [
      "C:\\Users\\J\\anaconda3\\lib\\site-packages\\sklearn\\ensemble\\_base.py:166: FutureWarning: `base_estimator` was renamed to `estimator` in version 1.2 and will be removed in 1.4.\n",
      "  warnings.warn(\n",
      "\n",
      "  0%|                                                    | 0/1 [01:18<?, ?it/s]"
     ]
    },
    {
     "name": "stdout",
     "output_type": "stream",
     "text": [
      "\n",
      " 17%|█▎      | 25/150 [00:03<00:22,  5.52trial/s, best loss: 52.46603736192334]\u001b[A"
     ]
    },
    {
     "name": "stderr",
     "output_type": "stream",
     "text": [
      "C:\\Users\\J\\anaconda3\\lib\\site-packages\\sklearn\\ensemble\\_base.py:166: FutureWarning: `base_estimator` was renamed to `estimator` in version 1.2 and will be removed in 1.4.\n",
      "  warnings.warn(\n",
      "\n",
      "  0%|                                                    | 0/1 [01:18<?, ?it/s]"
     ]
    },
    {
     "name": "stdout",
     "output_type": "stream",
     "text": [
      "\n",
      " 17%|█▍      | 26/150 [00:03<00:25,  4.85trial/s, best loss: 52.46603736192334]\u001b[A"
     ]
    },
    {
     "name": "stderr",
     "output_type": "stream",
     "text": [
      "C:\\Users\\J\\anaconda3\\lib\\site-packages\\sklearn\\ensemble\\_base.py:166: FutureWarning: `base_estimator` was renamed to `estimator` in version 1.2 and will be removed in 1.4.\n",
      "  warnings.warn(\n",
      "\n",
      "  0%|                                                    | 0/1 [01:19<?, ?it/s]"
     ]
    },
    {
     "name": "stdout",
     "output_type": "stream",
     "text": [
      "\n",
      " 18%|█▍      | 27/150 [00:03<00:26,  4.69trial/s, best loss: 52.46603736192334]\u001b[A"
     ]
    },
    {
     "name": "stderr",
     "output_type": "stream",
     "text": [
      "C:\\Users\\J\\anaconda3\\lib\\site-packages\\sklearn\\ensemble\\_base.py:166: FutureWarning: `base_estimator` was renamed to `estimator` in version 1.2 and will be removed in 1.4.\n",
      "  warnings.warn(\n",
      "\n",
      "  0%|                                                    | 0/1 [01:19<?, ?it/s]"
     ]
    },
    {
     "name": "stdout",
     "output_type": "stream",
     "text": [
      "\n",
      " 19%|█▍      | 28/150 [00:04<00:30,  4.05trial/s, best loss: 52.46603736192334]\u001b[A"
     ]
    },
    {
     "name": "stderr",
     "output_type": "stream",
     "text": [
      "C:\\Users\\J\\anaconda3\\lib\\site-packages\\sklearn\\ensemble\\_base.py:166: FutureWarning: `base_estimator` was renamed to `estimator` in version 1.2 and will be removed in 1.4.\n",
      "  warnings.warn(\n",
      "\n",
      "  0%|                                                    | 0/1 [01:19<?, ?it/s]"
     ]
    },
    {
     "name": "stdout",
     "output_type": "stream",
     "text": [
      "\n",
      " 19%|█▌      | 29/150 [00:04<00:30,  3.94trial/s, best loss: 52.46603736192334]\u001b[A"
     ]
    },
    {
     "name": "stderr",
     "output_type": "stream",
     "text": [
      "C:\\Users\\J\\anaconda3\\lib\\site-packages\\sklearn\\ensemble\\_base.py:166: FutureWarning: `base_estimator` was renamed to `estimator` in version 1.2 and will be removed in 1.4.\n",
      "  warnings.warn(\n",
      "\n",
      "  0%|                                                    | 0/1 [01:20<?, ?it/s]"
     ]
    },
    {
     "name": "stdout",
     "output_type": "stream",
     "text": [
      "\n",
      " 20%|█▌      | 30/150 [00:04<00:32,  3.70trial/s, best loss: 52.46603736192334]\u001b[A"
     ]
    },
    {
     "name": "stderr",
     "output_type": "stream",
     "text": [
      "C:\\Users\\J\\anaconda3\\lib\\site-packages\\sklearn\\ensemble\\_base.py:166: FutureWarning: `base_estimator` was renamed to `estimator` in version 1.2 and will be removed in 1.4.\n",
      "  warnings.warn(\n",
      "\n",
      "  0%|                                                    | 0/1 [01:20<?, ?it/s]"
     ]
    },
    {
     "name": "stdout",
     "output_type": "stream",
     "text": [
      "\n",
      " 21%|█▋      | 31/150 [00:05<00:34,  3.47trial/s, best loss: 52.46603736192334]\u001b[A"
     ]
    },
    {
     "name": "stderr",
     "output_type": "stream",
     "text": [
      "C:\\Users\\J\\anaconda3\\lib\\site-packages\\sklearn\\ensemble\\_base.py:166: FutureWarning: `base_estimator` was renamed to `estimator` in version 1.2 and will be removed in 1.4.\n",
      "  warnings.warn(\n",
      "\n",
      "  0%|                                                    | 0/1 [01:20<?, ?it/s]"
     ]
    },
    {
     "name": "stdout",
     "output_type": "stream",
     "text": [
      "\n",
      " 21%|█▋      | 32/150 [00:05<00:33,  3.50trial/s, best loss: 52.46603736192334]\u001b[A"
     ]
    },
    {
     "name": "stderr",
     "output_type": "stream",
     "text": [
      "C:\\Users\\J\\anaconda3\\lib\\site-packages\\sklearn\\ensemble\\_base.py:166: FutureWarning: `base_estimator` was renamed to `estimator` in version 1.2 and will be removed in 1.4.\n",
      "  warnings.warn(\n",
      "\n",
      "  0%|                                                    | 0/1 [01:20<?, ?it/s]"
     ]
    },
    {
     "name": "stdout",
     "output_type": "stream",
     "text": [
      "\n",
      " 22%|█▊      | 33/150 [00:05<00:35,  3.31trial/s, best loss: 52.46603736192334]\u001b[A"
     ]
    },
    {
     "name": "stderr",
     "output_type": "stream",
     "text": [
      "C:\\Users\\J\\anaconda3\\lib\\site-packages\\sklearn\\ensemble\\_base.py:166: FutureWarning: `base_estimator` was renamed to `estimator` in version 1.2 and will be removed in 1.4.\n",
      "  warnings.warn(\n",
      "\n",
      "  0%|                                                    | 0/1 [01:21<?, ?it/s]"
     ]
    },
    {
     "name": "stdout",
     "output_type": "stream",
     "text": [
      "\n",
      " 23%|█▊      | 34/150 [00:06<00:33,  3.42trial/s, best loss: 52.46603736192334]\u001b[A"
     ]
    },
    {
     "name": "stderr",
     "output_type": "stream",
     "text": [
      "C:\\Users\\J\\anaconda3\\lib\\site-packages\\sklearn\\ensemble\\_base.py:166: FutureWarning: `base_estimator` was renamed to `estimator` in version 1.2 and will be removed in 1.4.\n",
      "  warnings.warn(\n",
      "\n",
      "  0%|                                                    | 0/1 [01:21<?, ?it/s]"
     ]
    },
    {
     "name": "stdout",
     "output_type": "stream",
     "text": [
      "\n",
      " 23%|█▊      | 35/150 [00:06<00:32,  3.58trial/s, best loss: 52.46603736192334]\u001b[A"
     ]
    },
    {
     "name": "stderr",
     "output_type": "stream",
     "text": [
      "C:\\Users\\J\\anaconda3\\lib\\site-packages\\sklearn\\ensemble\\_base.py:166: FutureWarning: `base_estimator` was renamed to `estimator` in version 1.2 and will be removed in 1.4.\n",
      "  warnings.warn(\n",
      "\n",
      "  0%|                                                    | 0/1 [01:21<?, ?it/s]"
     ]
    },
    {
     "name": "stdout",
     "output_type": "stream",
     "text": [
      "\n",
      " 24%|█▉      | 36/150 [00:06<00:27,  4.15trial/s, best loss: 52.46603736192334]\u001b[A"
     ]
    },
    {
     "name": "stderr",
     "output_type": "stream",
     "text": [
      "C:\\Users\\J\\anaconda3\\lib\\site-packages\\sklearn\\ensemble\\_base.py:166: FutureWarning: `base_estimator` was renamed to `estimator` in version 1.2 and will be removed in 1.4.\n",
      "  warnings.warn(\n",
      "\n",
      "  0%|                                                    | 0/1 [01:21<?, ?it/s]"
     ]
    },
    {
     "name": "stdout",
     "output_type": "stream",
     "text": [
      "\n",
      " 25%|█▉      | 37/150 [00:06<00:29,  3.78trial/s, best loss: 52.46603736192334]\u001b[A"
     ]
    },
    {
     "name": "stderr",
     "output_type": "stream",
     "text": [
      "C:\\Users\\J\\anaconda3\\lib\\site-packages\\sklearn\\ensemble\\_base.py:166: FutureWarning: `base_estimator` was renamed to `estimator` in version 1.2 and will be removed in 1.4.\n",
      "  warnings.warn(\n",
      "\n",
      "  0%|                                                    | 0/1 [01:22<?, ?it/s]"
     ]
    },
    {
     "name": "stdout",
     "output_type": "stream",
     "text": [
      "\n",
      " 25%|██      | 38/150 [00:07<00:28,  3.89trial/s, best loss: 52.46603736192334]\u001b[A"
     ]
    },
    {
     "name": "stderr",
     "output_type": "stream",
     "text": [
      "C:\\Users\\J\\anaconda3\\lib\\site-packages\\sklearn\\ensemble\\_base.py:166: FutureWarning: `base_estimator` was renamed to `estimator` in version 1.2 and will be removed in 1.4.\n",
      "  warnings.warn(\n",
      "\n",
      "  0%|                                                    | 0/1 [01:22<?, ?it/s]"
     ]
    },
    {
     "name": "stdout",
     "output_type": "stream",
     "text": [
      "\n",
      " 26%|██      | 39/150 [00:07<00:28,  3.83trial/s, best loss: 52.46603736192334]\u001b[A"
     ]
    },
    {
     "name": "stderr",
     "output_type": "stream",
     "text": [
      "C:\\Users\\J\\anaconda3\\lib\\site-packages\\sklearn\\ensemble\\_base.py:166: FutureWarning: `base_estimator` was renamed to `estimator` in version 1.2 and will be removed in 1.4.\n",
      "  warnings.warn(\n",
      "\n",
      "  0%|                                                    | 0/1 [01:22<?, ?it/s]"
     ]
    },
    {
     "name": "stdout",
     "output_type": "stream",
     "text": [
      "\n",
      " 27%|██▏     | 40/150 [00:07<00:30,  3.59trial/s, best loss: 52.46603736192334]\u001b[A"
     ]
    },
    {
     "name": "stderr",
     "output_type": "stream",
     "text": [
      "C:\\Users\\J\\anaconda3\\lib\\site-packages\\sklearn\\ensemble\\_base.py:166: FutureWarning: `base_estimator` was renamed to `estimator` in version 1.2 and will be removed in 1.4.\n",
      "  warnings.warn(\n",
      "\n",
      "  0%|                                                    | 0/1 [01:23<?, ?it/s]"
     ]
    },
    {
     "name": "stdout",
     "output_type": "stream",
     "text": [
      "\n",
      " 27%|██▏     | 41/150 [00:07<00:29,  3.74trial/s, best loss: 52.46603736192334]\u001b[A"
     ]
    },
    {
     "name": "stderr",
     "output_type": "stream",
     "text": [
      "C:\\Users\\J\\anaconda3\\lib\\site-packages\\sklearn\\ensemble\\_base.py:166: FutureWarning: `base_estimator` was renamed to `estimator` in version 1.2 and will be removed in 1.4.\n",
      "  warnings.warn(\n",
      "\n",
      "  0%|                                                    | 0/1 [01:23<?, ?it/s]"
     ]
    },
    {
     "name": "stdout",
     "output_type": "stream",
     "text": [
      "\n",
      " 28%|██▏     | 42/150 [00:08<00:29,  3.61trial/s, best loss: 52.46603736192334]\u001b[A"
     ]
    },
    {
     "name": "stderr",
     "output_type": "stream",
     "text": [
      "C:\\Users\\J\\anaconda3\\lib\\site-packages\\sklearn\\ensemble\\_base.py:166: FutureWarning: `base_estimator` was renamed to `estimator` in version 1.2 and will be removed in 1.4.\n",
      "  warnings.warn(\n",
      "\n",
      "  0%|                                                    | 0/1 [01:23<?, ?it/s]"
     ]
    },
    {
     "name": "stdout",
     "output_type": "stream",
     "text": [
      "\n",
      " 29%|██▎     | 43/150 [00:08<00:26,  3.99trial/s, best loss: 52.46603736192334]\u001b[A"
     ]
    },
    {
     "name": "stderr",
     "output_type": "stream",
     "text": [
      "C:\\Users\\J\\anaconda3\\lib\\site-packages\\sklearn\\ensemble\\_base.py:166: FutureWarning: `base_estimator` was renamed to `estimator` in version 1.2 and will be removed in 1.4.\n",
      "  warnings.warn(\n",
      "\n",
      "  0%|                                                    | 0/1 [01:23<?, ?it/s]"
     ]
    },
    {
     "name": "stdout",
     "output_type": "stream",
     "text": [
      "\n",
      " 29%|██▎     | 44/150 [00:08<00:28,  3.72trial/s, best loss: 52.46603736192334]\u001b[A"
     ]
    },
    {
     "name": "stderr",
     "output_type": "stream",
     "text": [
      "C:\\Users\\J\\anaconda3\\lib\\site-packages\\sklearn\\ensemble\\_base.py:166: FutureWarning: `base_estimator` was renamed to `estimator` in version 1.2 and will be removed in 1.4.\n",
      "  warnings.warn(\n",
      "\n",
      "  0%|                                                    | 0/1 [01:24<?, ?it/s]"
     ]
    },
    {
     "name": "stdout",
     "output_type": "stream",
     "text": [
      "\n",
      " 30%|██▍     | 45/150 [00:08<00:25,  4.18trial/s, best loss: 52.46603736192334]\u001b[A"
     ]
    },
    {
     "name": "stderr",
     "output_type": "stream",
     "text": [
      "C:\\Users\\J\\anaconda3\\lib\\site-packages\\sklearn\\ensemble\\_base.py:166: FutureWarning: `base_estimator` was renamed to `estimator` in version 1.2 and will be removed in 1.4.\n",
      "  warnings.warn(\n",
      "\n",
      "  0%|                                                    | 0/1 [01:24<?, ?it/s]"
     ]
    },
    {
     "name": "stdout",
     "output_type": "stream",
     "text": [
      "\n",
      " 31%|██▍     | 46/150 [00:08<00:20,  4.99trial/s, best loss: 52.46603736192334]\u001b[A"
     ]
    },
    {
     "name": "stderr",
     "output_type": "stream",
     "text": [
      "C:\\Users\\J\\anaconda3\\lib\\site-packages\\sklearn\\ensemble\\_base.py:166: FutureWarning: `base_estimator` was renamed to `estimator` in version 1.2 and will be removed in 1.4.\n",
      "  warnings.warn(\n",
      "\n",
      "C:\\Users\\J\\anaconda3\\lib\\site-packages\\sklearn\\ensemble\\_base.py:166: FutureWarning: `base_estimator` was renamed to `estimator` in version 1.2 and will be removed in 1.4.\n",
      "  warnings.warn(\n",
      "\n",
      "  0%|                                                    | 0/1 [01:24<?, ?it/s]"
     ]
    },
    {
     "name": "stdout",
     "output_type": "stream",
     "text": [
      "\n",
      " 32%|██▌     | 48/150 [00:09<00:15,  6.69trial/s, best loss: 52.46603736192334]\u001b[A"
     ]
    },
    {
     "name": "stderr",
     "output_type": "stream",
     "text": [
      "C:\\Users\\J\\anaconda3\\lib\\site-packages\\sklearn\\ensemble\\_base.py:166: FutureWarning: `base_estimator` was renamed to `estimator` in version 1.2 and will be removed in 1.4.\n",
      "  warnings.warn(\n",
      "\n",
      "  0%|                                                    | 0/1 [01:24<?, ?it/s]"
     ]
    },
    {
     "name": "stdout",
     "output_type": "stream",
     "text": [
      "\n",
      " 33%|██▎    | 49/150 [00:09<00:13,  7.29trial/s, best loss: 45.513046315789474]\u001b[A"
     ]
    },
    {
     "name": "stderr",
     "output_type": "stream",
     "text": [
      "C:\\Users\\J\\anaconda3\\lib\\site-packages\\sklearn\\ensemble\\_base.py:166: FutureWarning: `base_estimator` was renamed to `estimator` in version 1.2 and will be removed in 1.4.\n",
      "  warnings.warn(\n",
      "\n",
      "C:\\Users\\J\\anaconda3\\lib\\site-packages\\sklearn\\ensemble\\_base.py:166: FutureWarning: `base_estimator` was renamed to `estimator` in version 1.2 and will be removed in 1.4.\n",
      "  warnings.warn(\n",
      "\n",
      "  0%|                                                    | 0/1 [01:24<?, ?it/s]"
     ]
    },
    {
     "name": "stdout",
     "output_type": "stream",
     "text": [
      "\n",
      " 34%|██▍    | 51/150 [00:09<00:12,  8.21trial/s, best loss: 45.513046315789474]\u001b[A"
     ]
    },
    {
     "name": "stderr",
     "output_type": "stream",
     "text": [
      "C:\\Users\\J\\anaconda3\\lib\\site-packages\\sklearn\\ensemble\\_base.py:166: FutureWarning: `base_estimator` was renamed to `estimator` in version 1.2 and will be removed in 1.4.\n",
      "  warnings.warn(\n",
      "\n",
      "C:\\Users\\J\\anaconda3\\lib\\site-packages\\sklearn\\ensemble\\_base.py:166: FutureWarning: `base_estimator` was renamed to `estimator` in version 1.2 and will be removed in 1.4.\n",
      "  warnings.warn(\n",
      "\n",
      "  0%|                                                    | 0/1 [01:24<?, ?it/s]"
     ]
    },
    {
     "name": "stdout",
     "output_type": "stream",
     "text": [
      "\n",
      " 35%|██▍    | 53/150 [00:09<00:10,  9.25trial/s, best loss: 45.513046315789474]\u001b[A"
     ]
    },
    {
     "name": "stderr",
     "output_type": "stream",
     "text": [
      "C:\\Users\\J\\anaconda3\\lib\\site-packages\\sklearn\\ensemble\\_base.py:166: FutureWarning: `base_estimator` was renamed to `estimator` in version 1.2 and will be removed in 1.4.\n",
      "  warnings.warn(\n",
      "\n",
      "C:\\Users\\J\\anaconda3\\lib\\site-packages\\sklearn\\ensemble\\_base.py:166: FutureWarning: `base_estimator` was renamed to `estimator` in version 1.2 and will be removed in 1.4.\n",
      "  warnings.warn(\n",
      "\n",
      "  0%|                                                    | 0/1 [01:25<?, ?it/s]"
     ]
    },
    {
     "name": "stdout",
     "output_type": "stream",
     "text": [
      "\n",
      " 37%|██▌    | 55/150 [00:09<00:09, 10.54trial/s, best loss: 45.513046315789474]\u001b[A"
     ]
    },
    {
     "name": "stderr",
     "output_type": "stream",
     "text": [
      "C:\\Users\\J\\anaconda3\\lib\\site-packages\\sklearn\\ensemble\\_base.py:166: FutureWarning: `base_estimator` was renamed to `estimator` in version 1.2 and will be removed in 1.4.\n",
      "  warnings.warn(\n",
      "\n",
      "C:\\Users\\J\\anaconda3\\lib\\site-packages\\sklearn\\ensemble\\_base.py:166: FutureWarning: `base_estimator` was renamed to `estimator` in version 1.2 and will be removed in 1.4.\n",
      "  warnings.warn(\n",
      "\n",
      "  0%|                                                    | 0/1 [01:25<?, ?it/s]"
     ]
    },
    {
     "name": "stdout",
     "output_type": "stream",
     "text": [
      "\n",
      " 38%|██▋    | 57/150 [00:09<00:08, 10.54trial/s, best loss: 45.513046315789474]\u001b[A"
     ]
    },
    {
     "name": "stderr",
     "output_type": "stream",
     "text": [
      "C:\\Users\\J\\anaconda3\\lib\\site-packages\\sklearn\\ensemble\\_base.py:166: FutureWarning: `base_estimator` was renamed to `estimator` in version 1.2 and will be removed in 1.4.\n",
      "  warnings.warn(\n",
      "\n",
      "C:\\Users\\J\\anaconda3\\lib\\site-packages\\sklearn\\ensemble\\_base.py:166: FutureWarning: `base_estimator` was renamed to `estimator` in version 1.2 and will be removed in 1.4.\n",
      "  warnings.warn(\n",
      "\n",
      "  0%|                                                    | 0/1 [01:25<?, ?it/s]"
     ]
    },
    {
     "name": "stdout",
     "output_type": "stream",
     "text": [
      "\n",
      " 39%|██▊    | 59/150 [00:10<00:08, 10.53trial/s, best loss: 45.513046315789474]\u001b[A"
     ]
    },
    {
     "name": "stderr",
     "output_type": "stream",
     "text": [
      "C:\\Users\\J\\anaconda3\\lib\\site-packages\\sklearn\\ensemble\\_base.py:166: FutureWarning: `base_estimator` was renamed to `estimator` in version 1.2 and will be removed in 1.4.\n",
      "  warnings.warn(\n",
      "\n",
      "C:\\Users\\J\\anaconda3\\lib\\site-packages\\sklearn\\ensemble\\_base.py:166: FutureWarning: `base_estimator` was renamed to `estimator` in version 1.2 and will be removed in 1.4.\n",
      "  warnings.warn(\n",
      "\n",
      "  0%|                                                    | 0/1 [01:25<?, ?it/s]"
     ]
    },
    {
     "name": "stdout",
     "output_type": "stream",
     "text": [
      "\n",
      " 41%|██▊    | 61/150 [00:10<00:08, 11.08trial/s, best loss: 45.513046315789474]\u001b[A"
     ]
    },
    {
     "name": "stderr",
     "output_type": "stream",
     "text": [
      "C:\\Users\\J\\anaconda3\\lib\\site-packages\\sklearn\\ensemble\\_base.py:166: FutureWarning: `base_estimator` was renamed to `estimator` in version 1.2 and will be removed in 1.4.\n",
      "  warnings.warn(\n",
      "\n",
      "C:\\Users\\J\\anaconda3\\lib\\site-packages\\sklearn\\ensemble\\_base.py:166: FutureWarning: `base_estimator` was renamed to `estimator` in version 1.2 and will be removed in 1.4.\n",
      "  warnings.warn(\n",
      "\n",
      "  0%|                                                    | 0/1 [01:25<?, ?it/s]"
     ]
    },
    {
     "name": "stdout",
     "output_type": "stream",
     "text": [
      "\n",
      " 42%|██▉    | 63/150 [00:10<00:07, 10.90trial/s, best loss: 45.513046315789474]\u001b[A"
     ]
    },
    {
     "name": "stderr",
     "output_type": "stream",
     "text": [
      "C:\\Users\\J\\anaconda3\\lib\\site-packages\\sklearn\\ensemble\\_base.py:166: FutureWarning: `base_estimator` was renamed to `estimator` in version 1.2 and will be removed in 1.4.\n",
      "  warnings.warn(\n",
      "\n",
      "C:\\Users\\J\\anaconda3\\lib\\site-packages\\sklearn\\ensemble\\_base.py:166: FutureWarning: `base_estimator` was renamed to `estimator` in version 1.2 and will be removed in 1.4.\n",
      "  warnings.warn(\n",
      "\n",
      "  0%|                                                    | 0/1 [01:26<?, ?it/s]"
     ]
    },
    {
     "name": "stdout",
     "output_type": "stream",
     "text": [
      "\n",
      " 43%|███    | 65/150 [00:10<00:08, 10.27trial/s, best loss: 45.513046315789474]\u001b[A"
     ]
    },
    {
     "name": "stderr",
     "output_type": "stream",
     "text": [
      "C:\\Users\\J\\anaconda3\\lib\\site-packages\\sklearn\\ensemble\\_base.py:166: FutureWarning: `base_estimator` was renamed to `estimator` in version 1.2 and will be removed in 1.4.\n",
      "  warnings.warn(\n",
      "\n",
      "C:\\Users\\J\\anaconda3\\lib\\site-packages\\sklearn\\ensemble\\_base.py:166: FutureWarning: `base_estimator` was renamed to `estimator` in version 1.2 and will be removed in 1.4.\n",
      "  warnings.warn(\n",
      "\n",
      "  0%|                                                    | 0/1 [01:26<?, ?it/s]"
     ]
    },
    {
     "name": "stdout",
     "output_type": "stream",
     "text": [
      "\n",
      " 45%|███▏   | 67/150 [00:10<00:08, 10.19trial/s, best loss: 45.513046315789474]\u001b[A"
     ]
    },
    {
     "name": "stderr",
     "output_type": "stream",
     "text": [
      "C:\\Users\\J\\anaconda3\\lib\\site-packages\\sklearn\\ensemble\\_base.py:166: FutureWarning: `base_estimator` was renamed to `estimator` in version 1.2 and will be removed in 1.4.\n",
      "  warnings.warn(\n",
      "\n",
      "C:\\Users\\J\\anaconda3\\lib\\site-packages\\sklearn\\ensemble\\_base.py:166: FutureWarning: `base_estimator` was renamed to `estimator` in version 1.2 and will be removed in 1.4.\n",
      "  warnings.warn(\n",
      "\n",
      "  0%|                                                    | 0/1 [01:26<?, ?it/s]"
     ]
    },
    {
     "name": "stdout",
     "output_type": "stream",
     "text": [
      "\n",
      " 46%|███▏   | 69/150 [00:11<00:08,  9.68trial/s, best loss: 45.513046315789474]\u001b[A"
     ]
    },
    {
     "name": "stderr",
     "output_type": "stream",
     "text": [
      "C:\\Users\\J\\anaconda3\\lib\\site-packages\\sklearn\\ensemble\\_base.py:166: FutureWarning: `base_estimator` was renamed to `estimator` in version 1.2 and will be removed in 1.4.\n",
      "  warnings.warn(\n",
      "\n",
      "  0%|                                                    | 0/1 [01:26<?, ?it/s]"
     ]
    },
    {
     "name": "stdout",
     "output_type": "stream",
     "text": [
      "\n",
      " 47%|███▎   | 70/150 [00:11<00:08,  9.26trial/s, best loss: 45.513046315789474]\u001b[A"
     ]
    },
    {
     "name": "stderr",
     "output_type": "stream",
     "text": [
      "C:\\Users\\J\\anaconda3\\lib\\site-packages\\sklearn\\ensemble\\_base.py:166: FutureWarning: `base_estimator` was renamed to `estimator` in version 1.2 and will be removed in 1.4.\n",
      "  warnings.warn(\n",
      "\n",
      "C:\\Users\\J\\anaconda3\\lib\\site-packages\\sklearn\\ensemble\\_base.py:166: FutureWarning: `base_estimator` was renamed to `estimator` in version 1.2 and will be removed in 1.4.\n",
      "  warnings.warn(\n",
      "\n",
      "  0%|                                                    | 0/1 [01:26<?, ?it/s]"
     ]
    },
    {
     "name": "stdout",
     "output_type": "stream",
     "text": [
      "\n",
      " 48%|███▎   | 72/150 [00:11<00:07,  9.81trial/s, best loss: 45.513046315789474]\u001b[A"
     ]
    },
    {
     "name": "stderr",
     "output_type": "stream",
     "text": [
      "C:\\Users\\J\\anaconda3\\lib\\site-packages\\sklearn\\ensemble\\_base.py:166: FutureWarning: `base_estimator` was renamed to `estimator` in version 1.2 and will be removed in 1.4.\n",
      "  warnings.warn(\n",
      "\n",
      "C:\\Users\\J\\anaconda3\\lib\\site-packages\\sklearn\\ensemble\\_base.py:166: FutureWarning: `base_estimator` was renamed to `estimator` in version 1.2 and will be removed in 1.4.\n",
      "  warnings.warn(\n",
      "\n",
      "  0%|                                                    | 0/1 [01:26<?, ?it/s]"
     ]
    },
    {
     "name": "stdout",
     "output_type": "stream",
     "text": [
      "\n",
      " 49%|███▍   | 74/150 [00:11<00:07, 10.55trial/s, best loss: 45.513046315789474]\u001b[A"
     ]
    },
    {
     "name": "stderr",
     "output_type": "stream",
     "text": [
      "C:\\Users\\J\\anaconda3\\lib\\site-packages\\sklearn\\ensemble\\_base.py:166: FutureWarning: `base_estimator` was renamed to `estimator` in version 1.2 and will be removed in 1.4.\n",
      "  warnings.warn(\n",
      "\n",
      "C:\\Users\\J\\anaconda3\\lib\\site-packages\\sklearn\\ensemble\\_base.py:166: FutureWarning: `base_estimator` was renamed to `estimator` in version 1.2 and will be removed in 1.4.\n",
      "  warnings.warn(\n",
      "\n",
      "  0%|                                                    | 0/1 [01:27<?, ?it/s]"
     ]
    },
    {
     "name": "stdout",
     "output_type": "stream",
     "text": [
      "\n",
      " 51%|███▌   | 76/150 [00:11<00:06, 10.91trial/s, best loss: 45.513046315789474]\u001b[A"
     ]
    },
    {
     "name": "stderr",
     "output_type": "stream",
     "text": [
      "C:\\Users\\J\\anaconda3\\lib\\site-packages\\sklearn\\ensemble\\_base.py:166: FutureWarning: `base_estimator` was renamed to `estimator` in version 1.2 and will be removed in 1.4.\n",
      "  warnings.warn(\n",
      "\n",
      "C:\\Users\\J\\anaconda3\\lib\\site-packages\\sklearn\\ensemble\\_base.py:166: FutureWarning: `base_estimator` was renamed to `estimator` in version 1.2 and will be removed in 1.4.\n",
      "  warnings.warn(\n",
      "\n",
      "  0%|                                                    | 0/1 [01:27<?, ?it/s]"
     ]
    },
    {
     "name": "stdout",
     "output_type": "stream",
     "text": [
      "\n",
      " 52%|███▋   | 78/150 [00:11<00:06, 11.16trial/s, best loss: 45.513046315789474]\u001b[A"
     ]
    },
    {
     "name": "stderr",
     "output_type": "stream",
     "text": [
      "C:\\Users\\J\\anaconda3\\lib\\site-packages\\sklearn\\ensemble\\_base.py:166: FutureWarning: `base_estimator` was renamed to `estimator` in version 1.2 and will be removed in 1.4.\n",
      "  warnings.warn(\n",
      "\n",
      "C:\\Users\\J\\anaconda3\\lib\\site-packages\\sklearn\\ensemble\\_base.py:166: FutureWarning: `base_estimator` was renamed to `estimator` in version 1.2 and will be removed in 1.4.\n",
      "  warnings.warn(\n",
      "\n",
      "  0%|                                                    | 0/1 [01:27<?, ?it/s]"
     ]
    },
    {
     "name": "stdout",
     "output_type": "stream",
     "text": [
      "\n",
      " 53%|███▋   | 80/150 [00:12<00:06, 10.77trial/s, best loss: 45.513046315789474]\u001b[A"
     ]
    },
    {
     "name": "stderr",
     "output_type": "stream",
     "text": [
      "C:\\Users\\J\\anaconda3\\lib\\site-packages\\sklearn\\ensemble\\_base.py:166: FutureWarning: `base_estimator` was renamed to `estimator` in version 1.2 and will be removed in 1.4.\n",
      "  warnings.warn(\n",
      "\n",
      "C:\\Users\\J\\anaconda3\\lib\\site-packages\\sklearn\\ensemble\\_base.py:166: FutureWarning: `base_estimator` was renamed to `estimator` in version 1.2 and will be removed in 1.4.\n",
      "  warnings.warn(\n",
      "\n",
      "  0%|                                                    | 0/1 [01:27<?, ?it/s]"
     ]
    },
    {
     "name": "stdout",
     "output_type": "stream",
     "text": [
      "\n",
      " 55%|███▊   | 82/150 [00:12<00:06, 10.53trial/s, best loss: 45.513046315789474]\u001b[A"
     ]
    },
    {
     "name": "stderr",
     "output_type": "stream",
     "text": [
      "C:\\Users\\J\\anaconda3\\lib\\site-packages\\sklearn\\ensemble\\_base.py:166: FutureWarning: `base_estimator` was renamed to `estimator` in version 1.2 and will be removed in 1.4.\n",
      "  warnings.warn(\n",
      "\n",
      "C:\\Users\\J\\anaconda3\\lib\\site-packages\\sklearn\\ensemble\\_base.py:166: FutureWarning: `base_estimator` was renamed to `estimator` in version 1.2 and will be removed in 1.4.\n",
      "  warnings.warn(\n",
      "\n",
      "  0%|                                                    | 0/1 [01:27<?, ?it/s]"
     ]
    },
    {
     "name": "stdout",
     "output_type": "stream",
     "text": [
      "\n",
      " 56%|███▉   | 84/150 [00:12<00:06, 10.87trial/s, best loss: 45.513046315789474]\u001b[A"
     ]
    },
    {
     "name": "stderr",
     "output_type": "stream",
     "text": [
      "C:\\Users\\J\\anaconda3\\lib\\site-packages\\sklearn\\ensemble\\_base.py:166: FutureWarning: `base_estimator` was renamed to `estimator` in version 1.2 and will be removed in 1.4.\n",
      "  warnings.warn(\n",
      "\n",
      "C:\\Users\\J\\anaconda3\\lib\\site-packages\\sklearn\\ensemble\\_base.py:166: FutureWarning: `base_estimator` was renamed to `estimator` in version 1.2 and will be removed in 1.4.\n",
      "  warnings.warn(\n",
      "\n",
      "  0%|                                                    | 0/1 [01:27<?, ?it/s]"
     ]
    },
    {
     "name": "stdout",
     "output_type": "stream",
     "text": [
      "\n",
      " 57%|████   | 86/150 [00:12<00:05, 11.32trial/s, best loss: 45.513046315789474]\u001b[A"
     ]
    },
    {
     "name": "stderr",
     "output_type": "stream",
     "text": [
      "C:\\Users\\J\\anaconda3\\lib\\site-packages\\sklearn\\ensemble\\_base.py:166: FutureWarning: `base_estimator` was renamed to `estimator` in version 1.2 and will be removed in 1.4.\n",
      "  warnings.warn(\n",
      "\n",
      "C:\\Users\\J\\anaconda3\\lib\\site-packages\\sklearn\\ensemble\\_base.py:166: FutureWarning: `base_estimator` was renamed to `estimator` in version 1.2 and will be removed in 1.4.\n",
      "  warnings.warn(\n",
      "\n",
      "  0%|                                                    | 0/1 [01:28<?, ?it/s]"
     ]
    },
    {
     "name": "stdout",
     "output_type": "stream",
     "text": [
      "\n",
      " 59%|████   | 88/150 [00:12<00:05, 10.89trial/s, best loss: 45.513046315789474]\u001b[A"
     ]
    },
    {
     "name": "stderr",
     "output_type": "stream",
     "text": [
      "C:\\Users\\J\\anaconda3\\lib\\site-packages\\sklearn\\ensemble\\_base.py:166: FutureWarning: `base_estimator` was renamed to `estimator` in version 1.2 and will be removed in 1.4.\n",
      "  warnings.warn(\n",
      "\n",
      "C:\\Users\\J\\anaconda3\\lib\\site-packages\\sklearn\\ensemble\\_base.py:166: FutureWarning: `base_estimator` was renamed to `estimator` in version 1.2 and will be removed in 1.4.\n",
      "  warnings.warn(\n",
      "\n",
      "  0%|                                                    | 0/1 [01:28<?, ?it/s]"
     ]
    },
    {
     "name": "stdout",
     "output_type": "stream",
     "text": [
      "\n",
      " 60%|████▏  | 90/150 [00:13<00:05, 10.12trial/s, best loss: 45.513046315789474]\u001b[A"
     ]
    },
    {
     "name": "stderr",
     "output_type": "stream",
     "text": [
      "C:\\Users\\J\\anaconda3\\lib\\site-packages\\sklearn\\ensemble\\_base.py:166: FutureWarning: `base_estimator` was renamed to `estimator` in version 1.2 and will be removed in 1.4.\n",
      "  warnings.warn(\n",
      "\n",
      "C:\\Users\\J\\anaconda3\\lib\\site-packages\\sklearn\\ensemble\\_base.py:166: FutureWarning: `base_estimator` was renamed to `estimator` in version 1.2 and will be removed in 1.4.\n",
      "  warnings.warn(\n",
      "\n",
      "  0%|                                                    | 0/1 [01:28<?, ?it/s]"
     ]
    },
    {
     "name": "stdout",
     "output_type": "stream",
     "text": [
      "\n",
      " 61%|████▎  | 92/150 [00:13<00:05, 10.56trial/s, best loss: 45.513046315789474]\u001b[A"
     ]
    },
    {
     "name": "stderr",
     "output_type": "stream",
     "text": [
      "C:\\Users\\J\\anaconda3\\lib\\site-packages\\sklearn\\ensemble\\_base.py:166: FutureWarning: `base_estimator` was renamed to `estimator` in version 1.2 and will be removed in 1.4.\n",
      "  warnings.warn(\n",
      "\n",
      "C:\\Users\\J\\anaconda3\\lib\\site-packages\\sklearn\\ensemble\\_base.py:166: FutureWarning: `base_estimator` was renamed to `estimator` in version 1.2 and will be removed in 1.4.\n",
      "  warnings.warn(\n",
      "\n",
      "  0%|                                                    | 0/1 [01:28<?, ?it/s]"
     ]
    },
    {
     "name": "stdout",
     "output_type": "stream",
     "text": [
      "\n",
      " 63%|████▍  | 94/150 [00:13<00:05, 10.39trial/s, best loss: 45.513046315789474]\u001b[A"
     ]
    },
    {
     "name": "stderr",
     "output_type": "stream",
     "text": [
      "C:\\Users\\J\\anaconda3\\lib\\site-packages\\sklearn\\ensemble\\_base.py:166: FutureWarning: `base_estimator` was renamed to `estimator` in version 1.2 and will be removed in 1.4.\n",
      "  warnings.warn(\n",
      "\n",
      "C:\\Users\\J\\anaconda3\\lib\\site-packages\\sklearn\\ensemble\\_base.py:166: FutureWarning: `base_estimator` was renamed to `estimator` in version 1.2 and will be removed in 1.4.\n",
      "  warnings.warn(\n",
      "\n",
      "  0%|                                                    | 0/1 [01:28<?, ?it/s]"
     ]
    },
    {
     "name": "stdout",
     "output_type": "stream",
     "text": [
      "\n",
      " 64%|████▍  | 96/150 [00:13<00:04, 11.31trial/s, best loss: 45.513046315789474]\u001b[A"
     ]
    },
    {
     "name": "stderr",
     "output_type": "stream",
     "text": [
      "C:\\Users\\J\\anaconda3\\lib\\site-packages\\sklearn\\ensemble\\_base.py:166: FutureWarning: `base_estimator` was renamed to `estimator` in version 1.2 and will be removed in 1.4.\n",
      "  warnings.warn(\n",
      "\n",
      "C:\\Users\\J\\anaconda3\\lib\\site-packages\\sklearn\\ensemble\\_base.py:166: FutureWarning: `base_estimator` was renamed to `estimator` in version 1.2 and will be removed in 1.4.\n",
      "  warnings.warn(\n",
      "\n",
      "  0%|                                                    | 0/1 [01:29<?, ?it/s]"
     ]
    },
    {
     "name": "stdout",
     "output_type": "stream",
     "text": [
      "\n",
      " 65%|████▌  | 98/150 [00:13<00:04, 11.07trial/s, best loss: 45.513046315789474]\u001b[A"
     ]
    },
    {
     "name": "stderr",
     "output_type": "stream",
     "text": [
      "C:\\Users\\J\\anaconda3\\lib\\site-packages\\sklearn\\ensemble\\_base.py:166: FutureWarning: `base_estimator` was renamed to `estimator` in version 1.2 and will be removed in 1.4.\n",
      "  warnings.warn(\n",
      "\n",
      "C:\\Users\\J\\anaconda3\\lib\\site-packages\\sklearn\\ensemble\\_base.py:166: FutureWarning: `base_estimator` was renamed to `estimator` in version 1.2 and will be removed in 1.4.\n",
      "  warnings.warn(\n",
      "\n",
      "  0%|                                                    | 0/1 [01:29<?, ?it/s]"
     ]
    },
    {
     "name": "stdout",
     "output_type": "stream",
     "text": [
      "\n",
      " 67%|████  | 100/150 [00:13<00:04, 10.90trial/s, best loss: 45.513046315789474]\u001b[A"
     ]
    },
    {
     "name": "stderr",
     "output_type": "stream",
     "text": [
      "C:\\Users\\J\\anaconda3\\lib\\site-packages\\sklearn\\ensemble\\_base.py:166: FutureWarning: `base_estimator` was renamed to `estimator` in version 1.2 and will be removed in 1.4.\n",
      "  warnings.warn(\n",
      "\n",
      "C:\\Users\\J\\anaconda3\\lib\\site-packages\\sklearn\\ensemble\\_base.py:166: FutureWarning: `base_estimator` was renamed to `estimator` in version 1.2 and will be removed in 1.4.\n",
      "  warnings.warn(\n",
      "\n",
      "  0%|                                                    | 0/1 [01:29<?, ?it/s]"
     ]
    },
    {
     "name": "stdout",
     "output_type": "stream",
     "text": [
      "\n",
      " 68%|████  | 102/150 [00:14<00:04, 10.96trial/s, best loss: 45.513046315789474]\u001b[A"
     ]
    },
    {
     "name": "stderr",
     "output_type": "stream",
     "text": [
      "C:\\Users\\J\\anaconda3\\lib\\site-packages\\sklearn\\ensemble\\_base.py:166: FutureWarning: `base_estimator` was renamed to `estimator` in version 1.2 and will be removed in 1.4.\n",
      "  warnings.warn(\n",
      "\n",
      "C:\\Users\\J\\anaconda3\\lib\\site-packages\\sklearn\\ensemble\\_base.py:166: FutureWarning: `base_estimator` was renamed to `estimator` in version 1.2 and will be removed in 1.4.\n",
      "  warnings.warn(\n",
      "\n",
      "  0%|                                                    | 0/1 [01:29<?, ?it/s]"
     ]
    },
    {
     "name": "stdout",
     "output_type": "stream",
     "text": [
      "\n",
      " 69%|████▏ | 104/150 [00:14<00:04, 10.17trial/s, best loss: 45.513046315789474]\u001b[A"
     ]
    },
    {
     "name": "stderr",
     "output_type": "stream",
     "text": [
      "C:\\Users\\J\\anaconda3\\lib\\site-packages\\sklearn\\ensemble\\_base.py:166: FutureWarning: `base_estimator` was renamed to `estimator` in version 1.2 and will be removed in 1.4.\n",
      "  warnings.warn(\n",
      "\n",
      "C:\\Users\\J\\anaconda3\\lib\\site-packages\\sklearn\\ensemble\\_base.py:166: FutureWarning: `base_estimator` was renamed to `estimator` in version 1.2 and will be removed in 1.4.\n",
      "  warnings.warn(\n",
      "\n",
      "  0%|                                                    | 0/1 [01:29<?, ?it/s]"
     ]
    },
    {
     "name": "stdout",
     "output_type": "stream",
     "text": [
      "\n",
      " 71%|████▏ | 106/150 [00:14<00:04, 10.95trial/s, best loss: 45.513046315789474]\u001b[A"
     ]
    },
    {
     "name": "stderr",
     "output_type": "stream",
     "text": [
      "C:\\Users\\J\\anaconda3\\lib\\site-packages\\sklearn\\ensemble\\_base.py:166: FutureWarning: `base_estimator` was renamed to `estimator` in version 1.2 and will be removed in 1.4.\n",
      "  warnings.warn(\n",
      "\n",
      "C:\\Users\\J\\anaconda3\\lib\\site-packages\\sklearn\\ensemble\\_base.py:166: FutureWarning: `base_estimator` was renamed to `estimator` in version 1.2 and will be removed in 1.4.\n",
      "  warnings.warn(\n",
      "\n",
      "  0%|                                                    | 0/1 [01:30<?, ?it/s]"
     ]
    },
    {
     "name": "stdout",
     "output_type": "stream",
     "text": [
      "\n",
      " 72%|████▎ | 108/150 [00:14<00:04, 10.01trial/s, best loss: 45.513046315789474]\u001b[A"
     ]
    },
    {
     "name": "stderr",
     "output_type": "stream",
     "text": [
      "C:\\Users\\J\\anaconda3\\lib\\site-packages\\sklearn\\ensemble\\_base.py:166: FutureWarning: `base_estimator` was renamed to `estimator` in version 1.2 and will be removed in 1.4.\n",
      "  warnings.warn(\n",
      "\n",
      "C:\\Users\\J\\anaconda3\\lib\\site-packages\\sklearn\\ensemble\\_base.py:166: FutureWarning: `base_estimator` was renamed to `estimator` in version 1.2 and will be removed in 1.4.\n",
      "  warnings.warn(\n",
      "\n",
      "  0%|                                                    | 0/1 [01:30<?, ?it/s]"
     ]
    },
    {
     "name": "stdout",
     "output_type": "stream",
     "text": [
      "\n",
      " 73%|████▍ | 110/150 [00:14<00:03, 10.82trial/s, best loss: 45.513046315789474]\u001b[A"
     ]
    },
    {
     "name": "stderr",
     "output_type": "stream",
     "text": [
      "C:\\Users\\J\\anaconda3\\lib\\site-packages\\sklearn\\ensemble\\_base.py:166: FutureWarning: `base_estimator` was renamed to `estimator` in version 1.2 and will be removed in 1.4.\n",
      "  warnings.warn(\n",
      "\n",
      "C:\\Users\\J\\anaconda3\\lib\\site-packages\\sklearn\\ensemble\\_base.py:166: FutureWarning: `base_estimator` was renamed to `estimator` in version 1.2 and will be removed in 1.4.\n",
      "  warnings.warn(\n",
      "\n",
      "  0%|                                                    | 0/1 [01:30<?, ?it/s]"
     ]
    },
    {
     "name": "stdout",
     "output_type": "stream",
     "text": [
      "\n",
      " 75%|████▍ | 112/150 [00:15<00:03, 10.08trial/s, best loss: 45.513046315789474]\u001b[A"
     ]
    },
    {
     "name": "stderr",
     "output_type": "stream",
     "text": [
      "C:\\Users\\J\\anaconda3\\lib\\site-packages\\sklearn\\ensemble\\_base.py:166: FutureWarning: `base_estimator` was renamed to `estimator` in version 1.2 and will be removed in 1.4.\n",
      "  warnings.warn(\n",
      "\n",
      "C:\\Users\\J\\anaconda3\\lib\\site-packages\\sklearn\\ensemble\\_base.py:166: FutureWarning: `base_estimator` was renamed to `estimator` in version 1.2 and will be removed in 1.4.\n",
      "  warnings.warn(\n",
      "\n",
      "  0%|                                                    | 0/1 [01:30<?, ?it/s]"
     ]
    },
    {
     "name": "stdout",
     "output_type": "stream",
     "text": [
      "\n",
      " 76%|████▌ | 114/150 [00:15<00:03, 10.05trial/s, best loss: 45.513046315789474]\u001b[A"
     ]
    },
    {
     "name": "stderr",
     "output_type": "stream",
     "text": [
      "C:\\Users\\J\\anaconda3\\lib\\site-packages\\sklearn\\ensemble\\_base.py:166: FutureWarning: `base_estimator` was renamed to `estimator` in version 1.2 and will be removed in 1.4.\n",
      "  warnings.warn(\n",
      "\n",
      "C:\\Users\\J\\anaconda3\\lib\\site-packages\\sklearn\\ensemble\\_base.py:166: FutureWarning: `base_estimator` was renamed to `estimator` in version 1.2 and will be removed in 1.4.\n",
      "  warnings.warn(\n",
      "\n",
      "  0%|                                                    | 0/1 [01:30<?, ?it/s]"
     ]
    },
    {
     "name": "stdout",
     "output_type": "stream",
     "text": [
      "\n",
      " 77%|████▋ | 116/150 [00:15<00:03,  9.89trial/s, best loss: 45.513046315789474]\u001b[A"
     ]
    },
    {
     "name": "stderr",
     "output_type": "stream",
     "text": [
      "C:\\Users\\J\\anaconda3\\lib\\site-packages\\sklearn\\ensemble\\_base.py:166: FutureWarning: `base_estimator` was renamed to `estimator` in version 1.2 and will be removed in 1.4.\n",
      "  warnings.warn(\n",
      "\n",
      "C:\\Users\\J\\anaconda3\\lib\\site-packages\\sklearn\\ensemble\\_base.py:166: FutureWarning: `base_estimator` was renamed to `estimator` in version 1.2 and will be removed in 1.4.\n",
      "  warnings.warn(\n",
      "\n",
      "  0%|                                                    | 0/1 [01:31<?, ?it/s]"
     ]
    },
    {
     "name": "stdout",
     "output_type": "stream",
     "text": [
      "\n",
      " 79%|████▋ | 118/150 [00:15<00:03,  9.78trial/s, best loss: 45.513046315789474]\u001b[A"
     ]
    },
    {
     "name": "stderr",
     "output_type": "stream",
     "text": [
      "C:\\Users\\J\\anaconda3\\lib\\site-packages\\sklearn\\ensemble\\_base.py:166: FutureWarning: `base_estimator` was renamed to `estimator` in version 1.2 and will be removed in 1.4.\n",
      "  warnings.warn(\n",
      "\n",
      "C:\\Users\\J\\anaconda3\\lib\\site-packages\\sklearn\\ensemble\\_base.py:166: FutureWarning: `base_estimator` was renamed to `estimator` in version 1.2 and will be removed in 1.4.\n",
      "  warnings.warn(\n",
      "\n",
      "  0%|                                                    | 0/1 [01:31<?, ?it/s]"
     ]
    },
    {
     "name": "stdout",
     "output_type": "stream",
     "text": [
      "\n",
      " 80%|████▊ | 120/150 [00:15<00:02, 10.80trial/s, best loss: 45.513046315789474]\u001b[A"
     ]
    },
    {
     "name": "stderr",
     "output_type": "stream",
     "text": [
      "C:\\Users\\J\\anaconda3\\lib\\site-packages\\sklearn\\ensemble\\_base.py:166: FutureWarning: `base_estimator` was renamed to `estimator` in version 1.2 and will be removed in 1.4.\n",
      "  warnings.warn(\n",
      "\n",
      "C:\\Users\\J\\anaconda3\\lib\\site-packages\\sklearn\\ensemble\\_base.py:166: FutureWarning: `base_estimator` was renamed to `estimator` in version 1.2 and will be removed in 1.4.\n",
      "  warnings.warn(\n",
      "\n",
      "  0%|                                                    | 0/1 [01:31<?, ?it/s]"
     ]
    },
    {
     "name": "stdout",
     "output_type": "stream",
     "text": [
      "\n",
      " 81%|████▉ | 122/150 [00:16<00:02, 10.72trial/s, best loss: 45.513046315789474]\u001b[A"
     ]
    },
    {
     "name": "stderr",
     "output_type": "stream",
     "text": [
      "C:\\Users\\J\\anaconda3\\lib\\site-packages\\sklearn\\ensemble\\_base.py:166: FutureWarning: `base_estimator` was renamed to `estimator` in version 1.2 and will be removed in 1.4.\n",
      "  warnings.warn(\n",
      "\n",
      "C:\\Users\\J\\anaconda3\\lib\\site-packages\\sklearn\\ensemble\\_base.py:166: FutureWarning: `base_estimator` was renamed to `estimator` in version 1.2 and will be removed in 1.4.\n",
      "  warnings.warn(\n",
      "\n",
      "  0%|                                                    | 0/1 [01:31<?, ?it/s]"
     ]
    },
    {
     "name": "stdout",
     "output_type": "stream",
     "text": [
      "\n",
      " 83%|████▉ | 124/150 [00:16<00:02, 10.17trial/s, best loss: 45.513046315789474]\u001b[A"
     ]
    },
    {
     "name": "stderr",
     "output_type": "stream",
     "text": [
      "C:\\Users\\J\\anaconda3\\lib\\site-packages\\sklearn\\ensemble\\_base.py:166: FutureWarning: `base_estimator` was renamed to `estimator` in version 1.2 and will be removed in 1.4.\n",
      "  warnings.warn(\n",
      "\n",
      "C:\\Users\\J\\anaconda3\\lib\\site-packages\\sklearn\\ensemble\\_base.py:166: FutureWarning: `base_estimator` was renamed to `estimator` in version 1.2 and will be removed in 1.4.\n",
      "  warnings.warn(\n",
      "\n",
      "  0%|                                                    | 0/1 [01:31<?, ?it/s]"
     ]
    },
    {
     "name": "stdout",
     "output_type": "stream",
     "text": [
      "\n",
      " 84%|█████ | 126/150 [00:16<00:02,  9.54trial/s, best loss: 45.513046315789474]\u001b[A"
     ]
    },
    {
     "name": "stderr",
     "output_type": "stream",
     "text": [
      "C:\\Users\\J\\anaconda3\\lib\\site-packages\\sklearn\\ensemble\\_base.py:166: FutureWarning: `base_estimator` was renamed to `estimator` in version 1.2 and will be removed in 1.4.\n",
      "  warnings.warn(\n",
      "\n",
      "  0%|                                                    | 0/1 [01:32<?, ?it/s]"
     ]
    },
    {
     "name": "stdout",
     "output_type": "stream",
     "text": [
      "\n",
      " 85%|█████ | 127/150 [00:16<00:02,  9.62trial/s, best loss: 45.513046315789474]\u001b[A"
     ]
    },
    {
     "name": "stderr",
     "output_type": "stream",
     "text": [
      "C:\\Users\\J\\anaconda3\\lib\\site-packages\\sklearn\\ensemble\\_base.py:166: FutureWarning: `base_estimator` was renamed to `estimator` in version 1.2 and will be removed in 1.4.\n",
      "  warnings.warn(\n",
      "\n",
      "  0%|                                                    | 0/1 [01:32<?, ?it/s]"
     ]
    },
    {
     "name": "stdout",
     "output_type": "stream",
     "text": [
      "\n",
      " 85%|█████ | 128/150 [00:16<00:02,  9.16trial/s, best loss: 45.513046315789474]\u001b[A"
     ]
    },
    {
     "name": "stderr",
     "output_type": "stream",
     "text": [
      "C:\\Users\\J\\anaconda3\\lib\\site-packages\\sklearn\\ensemble\\_base.py:166: FutureWarning: `base_estimator` was renamed to `estimator` in version 1.2 and will be removed in 1.4.\n",
      "  warnings.warn(\n",
      "\n",
      "C:\\Users\\J\\anaconda3\\lib\\site-packages\\sklearn\\ensemble\\_base.py:166: FutureWarning: `base_estimator` was renamed to `estimator` in version 1.2 and will be removed in 1.4.\n",
      "  warnings.warn(\n",
      "\n",
      "  0%|                                                    | 0/1 [01:32<?, ?it/s]"
     ]
    },
    {
     "name": "stdout",
     "output_type": "stream",
     "text": [
      "\n",
      " 87%|█████▏| 130/150 [00:16<00:01, 10.15trial/s, best loss: 45.513046315789474]\u001b[A"
     ]
    },
    {
     "name": "stderr",
     "output_type": "stream",
     "text": [
      "C:\\Users\\J\\anaconda3\\lib\\site-packages\\sklearn\\ensemble\\_base.py:166: FutureWarning: `base_estimator` was renamed to `estimator` in version 1.2 and will be removed in 1.4.\n",
      "  warnings.warn(\n",
      "\n",
      "C:\\Users\\J\\anaconda3\\lib\\site-packages\\sklearn\\ensemble\\_base.py:166: FutureWarning: `base_estimator` was renamed to `estimator` in version 1.2 and will be removed in 1.4.\n",
      "  warnings.warn(\n",
      "\n",
      "  0%|                                                    | 0/1 [01:32<?, ?it/s]"
     ]
    },
    {
     "name": "stdout",
     "output_type": "stream",
     "text": [
      "\n",
      " 88%|█████▎| 132/150 [00:17<00:01,  9.60trial/s, best loss: 45.513046315789474]\u001b[A"
     ]
    },
    {
     "name": "stderr",
     "output_type": "stream",
     "text": [
      "C:\\Users\\J\\anaconda3\\lib\\site-packages\\sklearn\\ensemble\\_base.py:166: FutureWarning: `base_estimator` was renamed to `estimator` in version 1.2 and will be removed in 1.4.\n",
      "  warnings.warn(\n",
      "\n",
      "C:\\Users\\J\\anaconda3\\lib\\site-packages\\sklearn\\ensemble\\_base.py:166: FutureWarning: `base_estimator` was renamed to `estimator` in version 1.2 and will be removed in 1.4.\n",
      "  warnings.warn(\n",
      "\n",
      "  0%|                                                    | 0/1 [01:32<?, ?it/s]"
     ]
    },
    {
     "name": "stdout",
     "output_type": "stream",
     "text": [
      "\n",
      " 89%|█████▎| 134/150 [00:17<00:01, 10.22trial/s, best loss: 45.513046315789474]\u001b[A"
     ]
    },
    {
     "name": "stderr",
     "output_type": "stream",
     "text": [
      "C:\\Users\\J\\anaconda3\\lib\\site-packages\\sklearn\\ensemble\\_base.py:166: FutureWarning: `base_estimator` was renamed to `estimator` in version 1.2 and will be removed in 1.4.\n",
      "  warnings.warn(\n",
      "\n",
      "C:\\Users\\J\\anaconda3\\lib\\site-packages\\sklearn\\ensemble\\_base.py:166: FutureWarning: `base_estimator` was renamed to `estimator` in version 1.2 and will be removed in 1.4.\n",
      "  warnings.warn(\n",
      "\n",
      "  0%|                                                    | 0/1 [01:32<?, ?it/s]"
     ]
    },
    {
     "name": "stdout",
     "output_type": "stream",
     "text": [
      "\n",
      " 91%|█████▍| 136/150 [00:17<00:01, 11.04trial/s, best loss: 45.513046315789474]\u001b[A"
     ]
    },
    {
     "name": "stderr",
     "output_type": "stream",
     "text": [
      "C:\\Users\\J\\anaconda3\\lib\\site-packages\\sklearn\\ensemble\\_base.py:166: FutureWarning: `base_estimator` was renamed to `estimator` in version 1.2 and will be removed in 1.4.\n",
      "  warnings.warn(\n",
      "\n",
      "C:\\Users\\J\\anaconda3\\lib\\site-packages\\sklearn\\ensemble\\_base.py:166: FutureWarning: `base_estimator` was renamed to `estimator` in version 1.2 and will be removed in 1.4.\n",
      "  warnings.warn(\n",
      "\n",
      "  0%|                                                    | 0/1 [01:33<?, ?it/s]"
     ]
    },
    {
     "name": "stdout",
     "output_type": "stream",
     "text": [
      "\n",
      " 92%|█████▌| 138/150 [00:17<00:01, 10.52trial/s, best loss: 45.513046315789474]\u001b[A"
     ]
    },
    {
     "name": "stderr",
     "output_type": "stream",
     "text": [
      "C:\\Users\\J\\anaconda3\\lib\\site-packages\\sklearn\\ensemble\\_base.py:166: FutureWarning: `base_estimator` was renamed to `estimator` in version 1.2 and will be removed in 1.4.\n",
      "  warnings.warn(\n",
      "\n",
      "C:\\Users\\J\\anaconda3\\lib\\site-packages\\sklearn\\ensemble\\_base.py:166: FutureWarning: `base_estimator` was renamed to `estimator` in version 1.2 and will be removed in 1.4.\n",
      "  warnings.warn(\n",
      "\n",
      "  0%|                                                    | 0/1 [01:33<?, ?it/s]"
     ]
    },
    {
     "name": "stdout",
     "output_type": "stream",
     "text": [
      "\n",
      " 93%|█████▌| 140/150 [00:17<00:01,  9.88trial/s, best loss: 45.513046315789474]\u001b[A"
     ]
    },
    {
     "name": "stderr",
     "output_type": "stream",
     "text": [
      "C:\\Users\\J\\anaconda3\\lib\\site-packages\\sklearn\\ensemble\\_base.py:166: FutureWarning: `base_estimator` was renamed to `estimator` in version 1.2 and will be removed in 1.4.\n",
      "  warnings.warn(\n",
      "\n",
      "C:\\Users\\J\\anaconda3\\lib\\site-packages\\sklearn\\ensemble\\_base.py:166: FutureWarning: `base_estimator` was renamed to `estimator` in version 1.2 and will be removed in 1.4.\n",
      "  warnings.warn(\n",
      "\n",
      "  0%|                                                    | 0/1 [01:33<?, ?it/s]"
     ]
    },
    {
     "name": "stdout",
     "output_type": "stream",
     "text": [
      "\n",
      " 95%|█████▋| 142/150 [00:18<00:00, 10.56trial/s, best loss: 45.513046315789474]\u001b[A"
     ]
    },
    {
     "name": "stderr",
     "output_type": "stream",
     "text": [
      "C:\\Users\\J\\anaconda3\\lib\\site-packages\\sklearn\\ensemble\\_base.py:166: FutureWarning: `base_estimator` was renamed to `estimator` in version 1.2 and will be removed in 1.4.\n",
      "  warnings.warn(\n",
      "\n",
      "C:\\Users\\J\\anaconda3\\lib\\site-packages\\sklearn\\ensemble\\_base.py:166: FutureWarning: `base_estimator` was renamed to `estimator` in version 1.2 and will be removed in 1.4.\n",
      "  warnings.warn(\n",
      "\n",
      "  0%|                                                    | 0/1 [01:33<?, ?it/s]"
     ]
    },
    {
     "name": "stdout",
     "output_type": "stream",
     "text": [
      "\n",
      " 96%|██████████████▍| 144/150 [00:18<00:00, 10.06trial/s, best loss: 44.679192]\u001b[A"
     ]
    },
    {
     "name": "stderr",
     "output_type": "stream",
     "text": [
      "C:\\Users\\J\\anaconda3\\lib\\site-packages\\sklearn\\ensemble\\_base.py:166: FutureWarning: `base_estimator` was renamed to `estimator` in version 1.2 and will be removed in 1.4.\n",
      "  warnings.warn(\n",
      "\n",
      "C:\\Users\\J\\anaconda3\\lib\\site-packages\\sklearn\\ensemble\\_base.py:166: FutureWarning: `base_estimator` was renamed to `estimator` in version 1.2 and will be removed in 1.4.\n",
      "  warnings.warn(\n",
      "\n",
      "  0%|                                                    | 0/1 [01:33<?, ?it/s]"
     ]
    },
    {
     "name": "stdout",
     "output_type": "stream",
     "text": [
      "\n",
      " 97%|██████████████▌| 146/150 [00:18<00:00,  9.47trial/s, best loss: 44.679192]\u001b[A"
     ]
    },
    {
     "name": "stderr",
     "output_type": "stream",
     "text": [
      "C:\\Users\\J\\anaconda3\\lib\\site-packages\\sklearn\\ensemble\\_base.py:166: FutureWarning: `base_estimator` was renamed to `estimator` in version 1.2 and will be removed in 1.4.\n",
      "  warnings.warn(\n",
      "\n",
      "  0%|                                                    | 0/1 [01:34<?, ?it/s]"
     ]
    },
    {
     "name": "stdout",
     "output_type": "stream",
     "text": [
      "\n",
      " 98%|██████████████▋| 147/150 [00:18<00:00,  9.09trial/s, best loss: 44.679192]\u001b[A"
     ]
    },
    {
     "name": "stderr",
     "output_type": "stream",
     "text": [
      "C:\\Users\\J\\anaconda3\\lib\\site-packages\\sklearn\\ensemble\\_base.py:166: FutureWarning: `base_estimator` was renamed to `estimator` in version 1.2 and will be removed in 1.4.\n",
      "  warnings.warn(\n",
      "\n",
      "  0%|                                                    | 0/1 [01:34<?, ?it/s]"
     ]
    },
    {
     "name": "stdout",
     "output_type": "stream",
     "text": [
      "\n",
      " 99%|██████████████▊| 148/150 [00:18<00:00,  9.09trial/s, best loss: 44.679192]\u001b[A"
     ]
    },
    {
     "name": "stderr",
     "output_type": "stream",
     "text": [
      "C:\\Users\\J\\anaconda3\\lib\\site-packages\\sklearn\\ensemble\\_base.py:166: FutureWarning: `base_estimator` was renamed to `estimator` in version 1.2 and will be removed in 1.4.\n",
      "  warnings.warn(\n",
      "\n",
      "  0%|                                                    | 0/1 [01:34<?, ?it/s]"
     ]
    },
    {
     "name": "stdout",
     "output_type": "stream",
     "text": [
      "\n",
      " 99%|██████████████▉| 149/150 [00:18<00:00,  9.09trial/s, best loss: 44.679192]\u001b[A"
     ]
    },
    {
     "name": "stderr",
     "output_type": "stream",
     "text": [
      "C:\\Users\\J\\anaconda3\\lib\\site-packages\\sklearn\\ensemble\\_base.py:166: FutureWarning: `base_estimator` was renamed to `estimator` in version 1.2 and will be removed in 1.4.\n",
      "  warnings.warn(\n",
      "\n",
      "  0%|                                                    | 0/1 [01:34<?, ?it/s]"
     ]
    },
    {
     "name": "stdout",
     "output_type": "stream",
     "text": [
      "100%|███████████████| 150/150 [00:18<00:00,  7.90trial/s, best loss: 44.679192]\n"
     ]
    },
    {
     "name": "stderr",
     "output_type": "stream",
     "text": [
      "100%|████████████████████████████████████████████| 1/1 [01:36<00:00, 96.29s/it]\n"
     ]
    }
   ],
   "source": [
    "os.mkdir(os.path.join(r\"C:\\Users\\J\\Desktop\\Manuscript\\All Settement\\189\",str(dataset_name)))\n",
    "for random_state in tqdm.tqdm(random_states):   \n",
    "    basePath = os.path.join(os.path.join(r\"C:\\Users\\J\\Desktop\\Manuscript\\All Settement\\189\",str(dataset_name)),str(random_state)) \n",
    "    os.mkdir(basePath)\n",
    "    #change the scaling option to incorporate scale or not\n",
    "    X,y,X_train, X_test, y_train, y_test, id_train, id_test = hp.Preprocess(random_state = random_state, do_scale=False, basePath=basePath)\n",
    "    hp.save_indices(id_train,id_test,basePath)\n",
    "    hp.find_stats(X,y,X_train, y_train, X_test, y_test, random_state  = random_state, basePath = basePath)\n",
    "    hp.plot_corr_scatter(X_train, X_test, y_train, y_test, basePath = basePath)\n",
    "    hp.plot_dist_scatter(X_train, y_train, X_test, y_test, basePath = basePath)\n",
    "    for model_name in model_names:\n",
    "        best_hyperparams = None\n",
    "        #switch between these two for hypertuning functionalities\n",
    "        model, best_hyperparams = hp.Train_Model(X_train,y_train, X_test, y_test, model_name, hypertuning = True)\n",
    "        #model = hp.Train_Model(X_train,y_train, X_test, y_test, model_name, hypertuning = False)\n",
    "        hp.find_metrics(X_train, X_test, y_train, y_test, best_hyperparams , model, model_name,basePath)"
   ]
  },
  {
   "cell_type": "code",
   "execution_count": null,
   "metadata": {},
   "outputs": [],
   "source": []
  }
 ],
 "metadata": {
  "kernelspec": {
   "display_name": "Python 3",
   "language": "python",
   "name": "python3"
  },
  "language_info": {
   "codemirror_mode": {
    "name": "ipython",
    "version": 3
   },
   "file_extension": ".py",
   "mimetype": "text/x-python",
   "name": "python",
   "nbconvert_exporter": "python",
   "pygments_lexer": "ipython3",
   "version": "3.8.8"
  },
  "vscode": {
   "interpreter": {
    "hash": "15bc4865aa63afea73dceac15c24b226eff619ab9f21ee1e4bef87b8d8e3ceea"
   }
  }
 },
 "nbformat": 4,
 "nbformat_minor": 2
}
